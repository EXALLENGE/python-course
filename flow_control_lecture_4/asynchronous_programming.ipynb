{
 "cells": [
  {
   "cell_type": "markdown",
   "metadata": {},
   "source": [
    "# Асинхронное программирование "
   ]
  },
  {
   "cell_type": "markdown",
   "metadata": {},
   "source": [
    "## Работа с другими процессами "
   ]
  },
  {
   "cell_type": "code",
   "execution_count": 3,
   "metadata": {},
   "outputs": [],
   "source": [
    "import subprocess\n",
    "p = subprocess.run(['python', '-c', 'open(\"/tmp/5555\", \"w\").close()'])"
   ]
  },
  {
   "cell_type": "code",
   "execution_count": 4,
   "metadata": {},
   "outputs": [],
   "source": [
    "p = subprocess.run(\n",
    "    ['perl', '-E', 'say \"out\"; warn \"err\\n\"'],\n",
    "    stdout=subprocess.PIPE, stderr=subprocess.PIPE\n",
    ")"
   ]
  },
  {
   "cell_type": "code",
   "execution_count": 5,
   "metadata": {},
   "outputs": [
    {
     "data": {
      "text/plain": [
       "(b'out\\n', b'err\\n')"
      ]
     },
     "execution_count": 5,
     "metadata": {},
     "output_type": "execute_result"
    }
   ],
   "source": [
    "p.stdout, p.stderr"
   ]
  },
  {
   "cell_type": "code",
   "execution_count": 10,
   "metadata": {},
   "outputs": [],
   "source": [
    "from subprocess import Popen\n",
    "\n",
    "p = Popen(\n",
    "    ['perl', '-E', 'say \"out\"; warn \"err\\n\"'],\n",
    "    stdout=subprocess.PIPE, stderr=subprocess.PIPE\n",
    ")"
   ]
  },
  {
   "cell_type": "code",
   "execution_count": 7,
   "metadata": {},
   "outputs": [
    {
     "data": {
      "text/plain": [
       "(b'out\\n', b'err\\n')"
      ]
     },
     "execution_count": 7,
     "metadata": {},
     "output_type": "execute_result"
    }
   ],
   "source": [
    "p.communicate()"
   ]
  },
  {
   "cell_type": "code",
   "execution_count": 11,
   "metadata": {},
   "outputs": [
    {
     "name": "stdout",
     "output_type": "stream",
     "text": [
      "out: b'out\\n'\n",
      "err: b'out\\n'\n"
     ]
    }
   ],
   "source": [
    "while True:\n",
    "    out = p.stdout.readline()\n",
    "    err = p.stderr.readline()\n",
    "    if out:\n",
    "        print(f'out: {out}')\n",
    "    if err:\n",
    "        print(f'err: {out}')\n",
    "    if not out and not err:\n",
    "        break"
   ]
  },
  {
   "cell_type": "code",
   "execution_count": 9,
   "metadata": {},
   "outputs": [
    {
     "ename": "KeyboardInterrupt",
     "evalue": "",
     "output_type": "error",
     "traceback": [
      "\u001b[0;31m---------------------------------------------------------------------------\u001b[0m",
      "\u001b[0;31mKeyboardInterrupt\u001b[0m                         Traceback (most recent call last)",
      "\u001b[0;32m<ipython-input-9-78f0ef146686>\u001b[0m in \u001b[0;36m<module>\u001b[0;34m\u001b[0m\n\u001b[1;32m      5\u001b[0m \u001b[0;34m\u001b[0m\u001b[0m\n\u001b[1;32m      6\u001b[0m \u001b[0;32mwhile\u001b[0m \u001b[0;32mTrue\u001b[0m\u001b[0;34m:\u001b[0m\u001b[0;34m\u001b[0m\u001b[0m\n\u001b[0;32m----> 7\u001b[0;31m     \u001b[0mout\u001b[0m \u001b[0;34m=\u001b[0m \u001b[0mp\u001b[0m\u001b[0;34m.\u001b[0m\u001b[0mstdout\u001b[0m\u001b[0;34m.\u001b[0m\u001b[0mreadline\u001b[0m\u001b[0;34m(\u001b[0m\u001b[0;34m)\u001b[0m\u001b[0;34m\u001b[0m\u001b[0m\n\u001b[0m\u001b[1;32m      8\u001b[0m     \u001b[0merr\u001b[0m \u001b[0;34m=\u001b[0m \u001b[0mp\u001b[0m\u001b[0;34m.\u001b[0m\u001b[0mstderr\u001b[0m\u001b[0;34m.\u001b[0m\u001b[0mreadline\u001b[0m\u001b[0;34m(\u001b[0m\u001b[0;34m)\u001b[0m\u001b[0;34m\u001b[0m\u001b[0m\n\u001b[1;32m      9\u001b[0m     \u001b[0;32mif\u001b[0m \u001b[0mout\u001b[0m\u001b[0;34m:\u001b[0m\u001b[0;34m\u001b[0m\u001b[0m\n",
      "\u001b[0;31mKeyboardInterrupt\u001b[0m: "
     ]
    }
   ],
   "source": [
    "p = Popen(\n",
    "    ['perl', '-E', 'warn \"err\\n\" x 1000000; say \"out\";'],\n",
    "    stdout=subprocess.PIPE, stderr=subprocess.PIPE\n",
    ")\n",
    "\n",
    "while True:\n",
    "    out = p.stdout.readline()\n",
    "    err = p.stderr.readline()\n",
    "    if out:\n",
    "        print(f'out: {out}')\n",
    "    if err:\n",
    "        print(f'err: {out}')\n",
    "    if not out and not err:\n",
    "        break"
   ]
  },
  {
   "cell_type": "markdown",
   "metadata": {},
   "source": [
    "## Процессы"
   ]
  },
  {
   "cell_type": "code",
   "execution_count": 12,
   "metadata": {},
   "outputs": [
    {
     "name": "stdout",
     "output_type": "stream",
     "text": [
      "5 doubled to 10 by process id: 14207\n",
      "10 doubled to 20 by process id: 14210\n",
      "20 doubled to 40 by process id: 14214\n",
      "15 doubled to 30 by process id: 14213\n",
      "25 doubled to 50 by process id: 14219\n",
      "30 doubled to 60 by process id: 14222\n",
      "35 doubled to 70 by process id: 14225\n",
      "40 doubled to 80 by process id: 14228\n",
      "45 doubled to 90 by process id: 14231\n",
      "46 doubled to 92 by process id: 14234\n",
      "50 doubled to 100 by process id: 14237\n",
      "55 doubled to 110 by process id: 14240\n",
      "60 doubled to 120 by process id: 14241\n",
      "65 doubled to 130 by process id: 14246\n",
      "70 doubled to 140 by process id: 14248\n"
     ]
    }
   ],
   "source": [
    "import os\n",
    "from multiprocessing import Process\n",
    " \n",
    "def doubler(number):\n",
    "    \"\"\"\n",
    "    Функция умножитель на два\n",
    "    \"\"\"\n",
    "    result = number * 2\n",
    "    proc = os.getpid()\n",
    "    print('{0} doubled to {1} by process id: {2}'.format(\n",
    "        number, result, proc))\n",
    "\n",
    "numbers = [5, 10, 15, 20, 25, 30, 35, 40, 45, 46, 50, 55, 60, 65, 70]\n",
    "procs = []\n",
    "\n",
    "for index, number in enumerate(numbers):\n",
    "    proc = Process(target=doubler, args=(number,))\n",
    "    procs.append(proc)\n",
    "    proc.start()\n",
    "\n",
    "for proc in procs:\n",
    "    proc.join()"
   ]
  },
  {
   "cell_type": "code",
   "execution_count": 13,
   "metadata": {},
   "outputs": [
    {
     "data": {
      "text/plain": [
       "8"
      ]
     },
     "execution_count": 13,
     "metadata": {},
     "output_type": "execute_result"
    }
   ],
   "source": [
    "os.cpu_count()"
   ]
  },
  {
   "cell_type": "code",
   "execution_count": 14,
   "metadata": {},
   "outputs": [
    {
     "name": "stdout",
     "output_type": "stream",
     "text": [
      "out: out\n",
      "err: err\n"
     ]
    }
   ],
   "source": [
    "p = Popen(\n",
    "    ['perl', '-E', 'warn \"err\\n\"; say \"out\";'],\n",
    "    stdout=subprocess.PIPE, stderr=subprocess.PIPE\n",
    ")\n",
    "\n",
    "def log(fh, prefix):\n",
    "    while True:\n",
    "        line = fh.readline()\n",
    "        if line:\n",
    "            print('{}: {}'.format(prefix, line.decode('utf8')), end='')\n",
    "        else:\n",
    "            break\n",
    "\n",
    "processes = [\n",
    "    Process(target=log, args=(p.stdout, 'out')),\n",
    "    Process(target=log, args=(p.stderr, 'err')),\n",
    "]\n",
    "for p in processes:\n",
    "    p.start()\n",
    "for p in processes:\n",
    "    p.join()"
   ]
  },
  {
   "cell_type": "markdown",
   "metadata": {},
   "source": [
    "## Треды"
   ]
  },
  {
   "cell_type": "code",
   "execution_count": 15,
   "metadata": {},
   "outputs": [
    {
     "name": "stdout",
     "output_type": "stream",
     "text": [
      "err: err\n",
      "out: out\n"
     ]
    }
   ],
   "source": [
    "import threading\n",
    "threads_num = 4\n",
    "\n",
    "p = Popen(\n",
    "    ['perl', '-E', 'warn \"err\\n\"; say \"out\";'],\n",
    "    stdout=subprocess.PIPE, stderr=subprocess.PIPE\n",
    ")\n",
    "\n",
    "def log(fh, prefix):\n",
    "    while True:\n",
    "        line = fh.readline()\n",
    "        if line:\n",
    "            print('{}: {}'.format(prefix, line.decode('utf8')), end='')\n",
    "        else:\n",
    "            break\n",
    "\n",
    "threads = [\n",
    "    threading.Thread(target=log, args=(p.stdout, 'out')),\n",
    "    threading.Thread(target=log, args=(p.stderr, 'err')),\n",
    "]\n",
    "for t in threads:\n",
    "    t.start()\n",
    "for t in threads:\n",
    "    t.join()"
   ]
  },
  {
   "cell_type": "markdown",
   "metadata": {},
   "source": [
    "## asyncio"
   ]
  },
  {
   "cell_type": "code",
   "execution_count": 57,
   "metadata": {},
   "outputs": [],
   "source": [
    "import asyncio"
   ]
  },
  {
   "cell_type": "code",
   "execution_count": 58,
   "metadata": {},
   "outputs": [],
   "source": [
    "p = asyncio.create_subprocess_exec(\n",
    "    'perl', '-E', 'warn \"err\\n\"; say \"out\"; warn \"2\\n\"',\n",
    "    stdout=asyncio.subprocess.PIPE, stderr=asyncio.subprocess.PIPE\n",
    ")"
   ]
  },
  {
   "cell_type": "code",
   "execution_count": 59,
   "metadata": {},
   "outputs": [
    {
     "data": {
      "text/plain": [
       "<coroutine object create_subprocess_exec at 0x7f67185bcb48>"
      ]
     },
     "execution_count": 59,
     "metadata": {},
     "output_type": "execute_result"
    }
   ],
   "source": [
    "p"
   ]
  },
  {
   "cell_type": "code",
   "execution_count": 61,
   "metadata": {},
   "outputs": [],
   "source": [
    "async def log(fh, prefix):\n",
    "    while True:\n",
    "        line = await fh.readline()\n",
    "        if line:\n",
    "            print('{}: {}'.format(prefix, line))\n",
    "        else:\n",
    "            break\n",
    "\n",
    "async def execute(loop):\n",
    "    p = await asyncio.create_subprocess_exec(\n",
    "        'perl', '-E', 'warn \"err\\n\"; say \"out\"; warn \"2\\n\"',\n",
    "        stdout=asyncio.subprocess.PIPE, stderr=asyncio.subprocess.PIPE\n",
    "    )\n",
    "    \n",
    "    loop.create_task(log(p.stdout, 'stdout'))\n",
    "    loop.create_task(log(p.stderr, 'stderr'))\n",
    "    \n",
    "    await p.wait()"
   ]
  },
  {
   "cell_type": "code",
   "execution_count": 62,
   "metadata": {},
   "outputs": [
    {
     "name": "stderr",
     "output_type": "stream",
     "text": [
      "/usr/local/lib/python3.7/site-packages/ipykernel_launcher.py:3: RuntimeWarning: coroutine 'execute' was never awaited\n",
      "  This is separate from the ipykernel package so we can avoid doing imports until\n"
     ]
    },
    {
     "data": {
      "text/plain": [
       "<Task pending coro=<execute() running at <ipython-input-61-fba4bf4663a6>:9>>"
      ]
     },
     "execution_count": 62,
     "metadata": {},
     "output_type": "execute_result"
    },
    {
     "name": "stdout",
     "output_type": "stream",
     "text": [
      "stdout: b'out\\n'\n",
      "stderr: b'err\\n'\n",
      "stderr: b'2\\n'\n"
     ]
    }
   ],
   "source": [
    "loop = asyncio.get_event_loop()\n",
    "\n",
    "execute(loop)\n",
    "\n",
    "asyncio.ensure_future(execute(loop))"
   ]
  },
  {
   "cell_type": "markdown",
   "metadata": {},
   "source": [
    "## aiohttp"
   ]
  },
  {
   "cell_type": "code",
   "execution_count": 65,
   "metadata": {},
   "outputs": [],
   "source": [
    "import aiohttp\n",
    "import asyncio\n",
    "\n",
    "async def fetch(session, url):\n",
    "    async with session.get(url) as response:\n",
    "        if response.status == 200:\n",
    "            return await response.text()  # return yield from\n",
    "        else:\n",
    "            return f'ERROR: {response.status}'\n",
    "\n",
    "async def download_wiki(article):\n",
    "    async with aiohttp.ClientSession() as session:\n",
    "        html = await fetch(session, 'http://de.wikipedia.org/{}'.format(article))\n",
    "        return html[:15]\n",
    "\n",
    "loop = asyncio.get_event_loop()\n",
    "tasks = asyncio.gather(\n",
    "    download_wiki('wiki/Évariste_Galois'),\n",
    "    download_wiki('wiki/Alan_Turing'),\n",
    "    download_wiki('zzz'),\n",
    ")"
   ]
  },
  {
   "cell_type": "code",
   "execution_count": 66,
   "metadata": {},
   "outputs": [
    {
     "data": {
      "text/plain": [
       "<_GatheringFuture finished result=['<!DOCTYPE html>', '<!DOCTYPE html>', 'ERROR: 404']>"
      ]
     },
     "execution_count": 66,
     "metadata": {},
     "output_type": "execute_result"
    }
   ],
   "source": [
    "tasks"
   ]
  }
 ],
 "metadata": {
  "kernelspec": {
   "display_name": "Python 3",
   "language": "python",
   "name": "python3"
  },
  "language_info": {
   "codemirror_mode": {
    "name": "ipython",
    "version": 3
   },
   "file_extension": ".py",
   "mimetype": "text/x-python",
   "name": "python",
   "nbconvert_exporter": "python",
   "pygments_lexer": "ipython3",
   "version": "3.7.0"
  }
 },
 "nbformat": 4,
 "nbformat_minor": 2
}
