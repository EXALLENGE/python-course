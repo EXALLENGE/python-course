{
 "cells": [
  {
   "cell_type": "markdown",
   "metadata": {},
   "source": [
    "# Типы данных в python"
   ]
  },
  {
   "cell_type": "markdown",
   "metadata": {},
   "source": [
    "## Списковые включения "
   ]
  },
  {
   "cell_type": "markdown",
   "metadata": {},
   "source": [
    "Сравните два примера:"
   ]
  },
  {
   "cell_type": "code",
   "execution_count": 1,
   "metadata": {},
   "outputs": [
    {
     "data": {
      "text/plain": [
       "[36, 162, 163, 165, 8364, 164]"
      ]
     },
     "execution_count": 1,
     "metadata": {},
     "output_type": "execute_result"
    }
   ],
   "source": [
    "symbols = '$¢£¥€¤'\n",
    "codes = []\n",
    "for symbol in symbols:\n",
    "    codes.append(ord(symbol))\n",
    "\n",
    "codes"
   ]
  },
  {
   "cell_type": "code",
   "execution_count": 2,
   "metadata": {},
   "outputs": [
    {
     "data": {
      "text/plain": [
       "[36, 162, 163, 165, 8364, 164]"
      ]
     },
     "execution_count": 2,
     "metadata": {},
     "output_type": "execute_result"
    }
   ],
   "source": [
    "symbols = '$¢£¥€¤'\n",
    "codes = [ord(symbol) for symbol in symbols]\n",
    "codes"
   ]
  },
  {
   "cell_type": "code",
   "execution_count": 4,
   "metadata": {},
   "outputs": [
    {
     "name": "stdout",
     "output_type": "stream",
     "text": [
      "[('black', 'S'), ('black', 'M'), ('black', 'L'), ('white', 'S'), ('white', 'M'), ('white', 'L')]\n",
      "('black', 'S')\n",
      "('black', 'M')\n",
      "('black', 'L')\n",
      "('white', 'S')\n",
      "('white', 'M')\n",
      "('white', 'L')\n",
      "[('black', 'S'), ('white', 'S'), ('black', 'M'), ('white', 'M'), ('black', 'L'), ('white', 'L')]\n"
     ]
    }
   ],
   "source": [
    "colors = ['black', 'white']\n",
    "sizes = ['S', 'M', 'L']\n",
    "tshirts = [(color, size) for color in colors for size in sizes]\n",
    "print(tshirts)\n",
    "for color in colors:\n",
    "    for size in sizes:\n",
    "        print((color, size))\n",
    "        \n",
    "tshirts = [(color, size) for size in sizes\n",
    "                            for color in colors]\n",
    "print(tshirts)"
   ]
  },
  {
   "cell_type": "code",
   "execution_count": 1,
   "metadata": {},
   "outputs": [
    {
     "data": {
      "text/plain": [
       "1"
      ]
     },
     "execution_count": 1,
     "metadata": {},
     "output_type": "execute_result"
    }
   ],
   "source": [
    "x = 1\n",
    "l = [x for x in 'ABC']\n",
    "x"
   ]
  },
  {
   "cell_type": "markdown",
   "metadata": {},
   "source": [
    "Списковое включение или filter?"
   ]
  },
  {
   "cell_type": "code",
   "execution_count": 4,
   "metadata": {},
   "outputs": [
    {
     "name": "stdout",
     "output_type": "stream",
     "text": [
      "[1060, 163, 165, 8364, 1080]\n",
      "[1060, 163, 165, 8364, 1080]\n"
     ]
    }
   ],
   "source": [
    "symbols = '$Ф£¥€и'\n",
    "beyond_ascii = [ord(s) for s in symbols if ord(s) > 127]\n",
    "print(beyond_ascii)\n",
    "beyond_ascii = list(filter(lambda c: c > 127, map(ord, symbols)))\n",
    "print(beyond_ascii)"
   ]
  },
  {
   "cell_type": "code",
   "execution_count": 13,
   "metadata": {},
   "outputs": [
    {
     "data": {
      "text/plain": [
       "[49, 50, 51]"
      ]
     },
     "execution_count": 13,
     "metadata": {},
     "output_type": "execute_result"
    }
   ],
   "source": [
    "l = list(map(ord, '123'))\n",
    "l"
   ]
  },
  {
   "cell_type": "markdown",
   "metadata": {},
   "source": [
    "Скорость"
   ]
  },
  {
   "cell_type": "markdown",
   "metadata": {},
   "source": [
    "## Генераторы"
   ]
  },
  {
   "cell_type": "code",
   "execution_count": 18,
   "metadata": {},
   "outputs": [
    {
     "name": "stdout",
     "output_type": "stream",
     "text": [
      "[<generator object <genexpr> at 0x7fac28052660>]\n"
     ]
    }
   ],
   "source": [
    "symbols = '$¢£¥€¤'\n",
    "r = [1, 2]\n",
    "print(r)"
   ]
  },
  {
   "cell_type": "code",
   "execution_count": 19,
   "metadata": {},
   "outputs": [
    {
     "data": {
      "text/plain": [
       "array('I', [36, 162, 163, 165, 8364, 164])"
      ]
     },
     "execution_count": 19,
     "metadata": {},
     "output_type": "execute_result"
    }
   ],
   "source": [
    "import array\n",
    "array.array('I', (ord(symbol) for symbol in symbols)) "
   ]
  },
  {
   "cell_type": "code",
   "execution_count": 21,
   "metadata": {},
   "outputs": [
    {
     "name": "stdout",
     "output_type": "stream",
     "text": [
      "black - S\n",
      "black - M\n",
      "black - L\n",
      "white - S\n",
      "white - M\n",
      "white - L\n"
     ]
    }
   ],
   "source": [
    "colors = ['black', 'white']\n",
    "sizes = ['S', 'M', 'L']\n",
    "for tshirt in (f'{c} - {s}' for c in colors for s in sizes):\n",
    "    print(tshirt)"
   ]
  },
  {
   "cell_type": "markdown",
   "metadata": {},
   "source": [
    "на дом range"
   ]
  },
  {
   "cell_type": "markdown",
   "metadata": {},
   "source": [
    "## Кортежи "
   ]
  },
  {
   "cell_type": "code",
   "execution_count": 23,
   "metadata": {},
   "outputs": [
    {
     "name": "stdout",
     "output_type": "stream",
     "text": [
      "BRA/CE342567\n",
      "USA/31195855\n"
     ]
    }
   ],
   "source": [
    "lax_coordinates = (33.9425, -118.408056)\n",
    "city, year, pop, chg, area = ('Tokyo', 2003, 32450, 0.66, 8014)\n",
    "traveler_ids = [('USA', '31195855'), ('BRA', 'CE342567')]\n",
    "for passport in sorted(traveler_ids):\n",
    "    print('%s/%s' % passport) "
   ]
  },
  {
   "cell_type": "code",
   "execution_count": 25,
   "metadata": {},
   "outputs": [
    {
     "name": "stdout",
     "output_type": "stream",
     "text": [
      "USA\n",
      "BRA\n"
     ]
    }
   ],
   "source": [
    "for country, _ in traveler_ids:\n",
    "    print(country)\n",
    "    \n",
    "_ = '...'"
   ]
  },
  {
   "cell_type": "code",
   "execution_count": 11,
   "metadata": {},
   "outputs": [
    {
     "name": "stdout",
     "output_type": "stream",
     "text": [
      "33.9425\n",
      "-118.408056\n"
     ]
    }
   ],
   "source": [
    "lax_coordinates = (33.9425, -118.408056)\n",
    "latitude, longitude = lax_coordinates # tuple unpacking\n",
    "print(latitude)\n",
    "print(longitude)"
   ]
  },
  {
   "cell_type": "code",
   "execution_count": 13,
   "metadata": {},
   "outputs": [],
   "source": [
    "a = 1\n",
    "b = 2\n",
    "b, a = a, b"
   ]
  },
  {
   "cell_type": "code",
   "execution_count": 4,
   "metadata": {},
   "outputs": [
    {
     "name": "stdout",
     "output_type": "stream",
     "text": [
      "(2, 4)\n"
     ]
    },
    {
     "data": {
      "text/plain": [
       "(2, 4)"
      ]
     },
     "execution_count": 4,
     "metadata": {},
     "output_type": "execute_result"
    }
   ],
   "source": [
    "print(divmod(20, 8))\n",
    "t = (20, 8)\n",
    "q, r = divmod(*t)\n",
    "q, r"
   ]
  },
  {
   "cell_type": "code",
   "execution_count": 5,
   "metadata": {},
   "outputs": [
    {
     "data": {
      "text/plain": [
       "'notebook.ipynb'"
      ]
     },
     "execution_count": 5,
     "metadata": {},
     "output_type": "execute_result"
    }
   ],
   "source": [
    "import os\n",
    "_, filename = os.path.split('./notebook.ipynb')\n",
    "filename"
   ]
  },
  {
   "cell_type": "code",
   "execution_count": 10,
   "metadata": {},
   "outputs": [
    {
     "name": "stdout",
     "output_type": "stream",
     "text": [
      "0 1 [2, 3, 4]\n",
      "0 1 [2]\n",
      "0 1 []\n"
     ]
    },
    {
     "ename": "ValueError",
     "evalue": "not enough values to unpack (expected at least 2, got 1)",
     "output_type": "error",
     "traceback": [
      "\u001b[0;31m---------------------------------------------------------------------------\u001b[0m",
      "\u001b[0;31mValueError\u001b[0m                                Traceback (most recent call last)",
      "\u001b[0;32m<ipython-input-10-099bdc6fde87>\u001b[0m in \u001b[0;36m<module>\u001b[0;34m\u001b[0m\n\u001b[1;32m      5\u001b[0m \u001b[0ma\u001b[0m\u001b[0;34m,\u001b[0m \u001b[0mb\u001b[0m\u001b[0;34m,\u001b[0m \u001b[0;34m*\u001b[0m\u001b[0mrest\u001b[0m \u001b[0;34m=\u001b[0m \u001b[0mrange\u001b[0m\u001b[0;34m(\u001b[0m\u001b[0;36m2\u001b[0m\u001b[0;34m)\u001b[0m\u001b[0;34m\u001b[0m\u001b[0m\n\u001b[1;32m      6\u001b[0m \u001b[0mprint\u001b[0m\u001b[0;34m(\u001b[0m\u001b[0ma\u001b[0m\u001b[0;34m,\u001b[0m \u001b[0mb\u001b[0m\u001b[0;34m,\u001b[0m \u001b[0mrest\u001b[0m\u001b[0;34m)\u001b[0m\u001b[0;34m\u001b[0m\u001b[0m\n\u001b[0;32m----> 7\u001b[0;31m \u001b[0ma\u001b[0m\u001b[0;34m,\u001b[0m \u001b[0mb\u001b[0m\u001b[0;34m,\u001b[0m \u001b[0;34m*\u001b[0m\u001b[0mrest\u001b[0m \u001b[0;34m=\u001b[0m \u001b[0mrange\u001b[0m\u001b[0;34m(\u001b[0m\u001b[0;36m1\u001b[0m\u001b[0;34m)\u001b[0m\u001b[0;34m\u001b[0m\u001b[0m\n\u001b[0m\u001b[1;32m      8\u001b[0m \u001b[0mprint\u001b[0m\u001b[0;34m(\u001b[0m\u001b[0ma\u001b[0m\u001b[0;34m,\u001b[0m \u001b[0mb\u001b[0m\u001b[0;34m,\u001b[0m \u001b[0mrest\u001b[0m\u001b[0;34m)\u001b[0m\u001b[0;34m\u001b[0m\u001b[0m\n",
      "\u001b[0;31mValueError\u001b[0m: not enough values to unpack (expected at least 2, got 1)"
     ]
    }
   ],
   "source": [
    "a, b, *rest = range(5)\n",
    "print(a, b, rest)\n",
    "a, b, *rest = range(3)\n",
    "print(a, b, rest)\n",
    "a, b, *rest = range(2)\n",
    "print(a, b, rest)\n",
    "a, b, *rest = range(1)\n",
    "print(a, b, rest)"
   ]
  },
  {
   "cell_type": "code",
   "execution_count": 26,
   "metadata": {},
   "outputs": [
    {
     "ename": "SyntaxError",
     "evalue": "two starred expressions in assignment (cell_name, line 6)",
     "output_type": "error",
     "traceback": [
      "\u001b[0;36m  File \u001b[0;32m\"cell_name\"\u001b[0;36m, line \u001b[0;32m6\u001b[0m\n\u001b[0;31mSyntaxError\u001b[0m\u001b[0;31m:\u001b[0m two starred expressions in assignment\n"
     ]
    }
   ],
   "source": [
    "a, *body, c, d = range(5)\n",
    "print(a, body, c, d)\n",
    "*head, b, *body = range(5)\n",
    "print(head, b, body)"
   ]
  },
  {
   "cell_type": "code",
   "execution_count": 12,
   "metadata": {
    "scrolled": true
   },
   "outputs": [
    {
     "name": "stdout",
     "output_type": "stream",
     "text": [
      "                |   lat.    |   long.  \n",
      "Mexico City     |   19.4333 |  -99.1333\n",
      "New York-Newark |   40.8086 |  -74.0204\n",
      "Sao Paulo       |  -23.5478 |  -46.6358\n"
     ]
    }
   ],
   "source": [
    "metro_areas = [\n",
    " ('Tokyo', 'JP', 36.933, (35.689722, 139.691667)), \n",
    " ('Delhi NCR', 'IN', 21.935, (28.613889, 77.208889)),\n",
    " ('Mexico City', 'MX', 20.142, (19.433333, -99.133333)),\n",
    " ('New York-Newark', 'US', 20.104, (40.808611, -74.020386)),\n",
    " ('Sao Paulo', 'BR', 19.649, (-23.547778, -46.635833)),\n",
    "]\n",
    "\n",
    "print('{:15} | {:^9} | {:^9}'.format('', 'lat.', 'long.'))\n",
    "fmt = '{:15} | {:9.4f} | {:9.4f}'\n",
    "for name, cc, pop, (latitude, longitude) in metro_areas: #\n",
    "    if longitude <= 0: #\n",
    "        print(fmt.format(name, latitude, longitude))"
   ]
  },
  {
   "cell_type": "code",
   "execution_count": 14,
   "metadata": {},
   "outputs": [
    {
     "name": "stdout",
     "output_type": "stream",
     "text": [
      "City(name='Tokyo', country='JP', population=36.933, coordinates=(35.689722, 139.691667))\n",
      "36.933\n",
      "(35.689722, 139.691667)\n",
      "JP\n"
     ]
    }
   ],
   "source": [
    "from collections import namedtuple\n",
    "City = namedtuple('City', 'name country population coordinates')\n",
    "tokyo = City('Tokyo', 'JP', 36.933, (35.689722, 139.691667))\n",
    "print(tokyo)\n",
    "print(tokyo.population)\n",
    "print(tokyo.coordinates)\n",
    "print(tokyo[1])"
   ]
  },
  {
   "cell_type": "code",
   "execution_count": 16,
   "metadata": {},
   "outputs": [
    {
     "name": "stdout",
     "output_type": "stream",
     "text": [
      "('name', 'country', 'population', 'coordinates')\n",
      "OrderedDict([('name', 'Delhi NCR'), ('country', 'IN'), ('population', 21.935), ('coordinates', LatLong(lat=28.613889, long=77.208889))])\n",
      "name: Delhi NCR\n",
      "country: IN\n",
      "population: 21.935\n",
      "coordinates: LatLong(lat=28.613889, long=77.208889)\n"
     ]
    }
   ],
   "source": [
    "print(City._fields)\n",
    "LatLong = namedtuple('LatLong', 'lat long')\n",
    "delhi_data = ('Delhi NCR', 'IN', 21.935, LatLong(28.613889, 77.208889))\n",
    "delhi = City._make(delhi_data)\n",
    "print(delhi._asdict())\n",
    "for key, value in delhi._asdict().items():\n",
    "    print(key + ':', value)"
   ]
  },
  {
   "cell_type": "markdown",
   "metadata": {},
   "source": [
    "на дом dataclass"
   ]
  },
  {
   "cell_type": "markdown",
   "metadata": {},
   "source": [
    "## Срезы"
   ]
  },
  {
   "cell_type": "markdown",
   "metadata": {},
   "source": [
    "Почему с нуля?\n",
    "Число элементов\n",
    "две неиересекающисся части"
   ]
  },
  {
   "cell_type": "code",
   "execution_count": null,
   "metadata": {},
   "outputs": [],
   "source": [
    "l = [10, 20, 30, 40, 50, 60]\n",
    "print(l[:2])\n",
    "print(l[2:])\n",
    "print(l[:3])\n",
    "print(l[3:])"
   ]
  },
  {
   "cell_type": "code",
   "execution_count": null,
   "metadata": {},
   "outputs": [],
   "source": [
    "s = 'bicycle'\n",
    "print(s[::3])\n",
    "print(s[::-1])\n",
    "print(s[::-2])"
   ]
  },
  {
   "cell_type": "code",
   "execution_count": 21,
   "metadata": {},
   "outputs": [
    {
     "name": "stdout",
     "output_type": "stream",
     "text": [
      "$17.50       Pimoroni PiBrella                 \n",
      "$4.95        6mm Tactile Switch x20            \n",
      "$28.00       Panavise Jr. - PV-201             \n",
      "$34.95       PiTFT Mini Kit 320x240            \n",
      " \n"
     ]
    }
   ],
   "source": [
    "invoice = \"\"\"\n",
    "0.....6.................................40.............52...55........\n",
    "1909  Pimoroni PiBrella                 $17.50         3    $52.50\n",
    "1489  6mm Tactile Switch x20            $4.95          2    $9.90\n",
    "1510  Panavise Jr. - PV-201             $28.00         1    $28.00\n",
    "1601  PiTFT Mini Kit 320x240            $34.95         1    $34.95\n",
    "\"\"\"\n",
    "SKU = slice(0, 6)\n",
    "DESCRIPTION = slice(6, 40)\n",
    "UNIT_PRICE = slice(40, 52)\n",
    "QUANTITY = slice(52, 55)\n",
    "ITEM_TOTAL = slice(55, None)\n",
    "line_items = invoice.split('\\n')[2:]\n",
    "for item in line_items:\n",
    "    print(item[UNIT_PRICE], item[DESCRIPTION])"
   ]
  },
  {
   "cell_type": "markdown",
   "metadata": {},
   "source": [
    "на дом Многомерные срезы"
   ]
  },
  {
   "cell_type": "code",
   "execution_count": 22,
   "metadata": {},
   "outputs": [
    {
     "name": "stdout",
     "output_type": "stream",
     "text": [
      "[0, 1, 2, 3, 4, 5, 6, 7, 8, 9]\n",
      "[0, 1, 20, 30, 5, 6, 7, 8, 9]\n",
      "[0, 1, 20, 30, 5, 8, 9]\n",
      "[0, 1, 20, 11, 5, 22, 9]\n"
     ]
    },
    {
     "ename": "TypeError",
     "evalue": "can only assign an iterable",
     "output_type": "error",
     "traceback": [
      "\u001b[0;31m---------------------------------------------------------------------------\u001b[0m",
      "\u001b[0;31mTypeError\u001b[0m                                 Traceback (most recent call last)",
      "\u001b[0;32m<ipython-input-22-38be4ce17703>\u001b[0m in \u001b[0;36m<module>\u001b[0;34m\u001b[0m\n\u001b[1;32m     11\u001b[0m \u001b[0mprint\u001b[0m\u001b[0;34m(\u001b[0m\u001b[0ml\u001b[0m\u001b[0;34m)\u001b[0m\u001b[0;34m\u001b[0m\u001b[0m\n\u001b[1;32m     12\u001b[0m \u001b[0;34m[\u001b[0m\u001b[0;36m0\u001b[0m\u001b[0;34m,\u001b[0m \u001b[0;36m1\u001b[0m\u001b[0;34m,\u001b[0m \u001b[0;36m20\u001b[0m\u001b[0;34m,\u001b[0m \u001b[0;36m11\u001b[0m\u001b[0;34m,\u001b[0m \u001b[0;36m5\u001b[0m\u001b[0;34m,\u001b[0m \u001b[0;36m22\u001b[0m\u001b[0;34m,\u001b[0m \u001b[0;36m9\u001b[0m\u001b[0;34m]\u001b[0m\u001b[0;34m\u001b[0m\u001b[0m\n\u001b[0;32m---> 13\u001b[0;31m \u001b[0ml\u001b[0m\u001b[0;34m[\u001b[0m\u001b[0;36m2\u001b[0m\u001b[0;34m:\u001b[0m\u001b[0;36m5\u001b[0m\u001b[0;34m]\u001b[0m \u001b[0;34m=\u001b[0m \u001b[0;36m100\u001b[0m\u001b[0;34m\u001b[0m\u001b[0m\n\u001b[0m",
      "\u001b[0;31mTypeError\u001b[0m: can only assign an iterable"
     ]
    }
   ],
   "source": [
    "l = list(range(10))\n",
    "print(l)\n",
    "[0, 1, 2, 3, 4, 5, 6, 7, 8, 9]\n",
    "l[2:5] = [20, 30]\n",
    "print(l)\n",
    "[0, 1, 20, 30, 5, 6, 7, 8, 9]\n",
    "del l[5:7]\n",
    "print(l)\n",
    "[0, 1, 20, 30, 5, 8, 9]\n",
    "l[3::2] = [11, 22]\n",
    "print(l)\n",
    "[0, 1, 20, 11, 5, 22, 9]\n",
    "l[2:5] = 100"
   ]
  },
  {
   "cell_type": "code",
   "execution_count": 23,
   "metadata": {},
   "outputs": [
    {
     "data": {
      "text/plain": [
       "[0, 1, 100, 22, 9]"
      ]
     },
     "execution_count": 23,
     "metadata": {},
     "output_type": "execute_result"
    }
   ],
   "source": [
    "l[2:5] = [100]\n",
    "l"
   ]
  },
  {
   "cell_type": "markdown",
   "metadata": {},
   "source": [
    "## Использование + и * с последовательностями"
   ]
  },
  {
   "cell_type": "code",
   "execution_count": 24,
   "metadata": {},
   "outputs": [
    {
     "data": {
      "text/plain": [
       "[1, 2, 3, 1, 2, 3, 1, 2, 3, 1, 2, 3, 1, 2, 3]"
      ]
     },
     "execution_count": 24,
     "metadata": {},
     "output_type": "execute_result"
    }
   ],
   "source": [
    "l = [1, 2, 3]\n",
    "l * 5"
   ]
  },
  {
   "cell_type": "code",
   "execution_count": 25,
   "metadata": {},
   "outputs": [
    {
     "data": {
      "text/plain": [
       "'abcdabcdabcdabcdabcd'"
      ]
     },
     "execution_count": 25,
     "metadata": {},
     "output_type": "execute_result"
    }
   ],
   "source": [
    "5 * 'abcd'"
   ]
  },
  {
   "cell_type": "markdown",
   "metadata": {},
   "source": [
    "## Вложенные последовательности"
   ]
  },
  {
   "cell_type": "code",
   "execution_count": 26,
   "metadata": {},
   "outputs": [
    {
     "name": "stdout",
     "output_type": "stream",
     "text": [
      "[['_', '_', '_'], ['_', '_', '_'], ['_', '_', '_']]\n",
      "[['_', '_', '_'], ['_', '_', 'X'], ['_', '_', '_']]\n"
     ]
    }
   ],
   "source": [
    "board = [['_'] * 3 for i in range(3)]\n",
    "print(board)\n",
    "board[1][2] = 'X'\n",
    "print(board)\n"
   ]
  },
  {
   "cell_type": "code",
   "execution_count": 27,
   "metadata": {},
   "outputs": [
    {
     "name": "stdout",
     "output_type": "stream",
     "text": [
      "[['_', '_', '_'], ['_', '_', '_'], ['_', '_', '_']]\n",
      "[['_', '_', 'X'], ['_', '_', 'X'], ['_', '_', 'X']]\n"
     ]
    }
   ],
   "source": [
    "weird_board = [['_'] * 3] * 3\n",
    "print(weird_board)\n",
    "weird_board[1][2] = 'X'\n",
    "print(weird_board)\n"
   ]
  },
  {
   "cell_type": "code",
   "execution_count": 28,
   "metadata": {},
   "outputs": [
    {
     "name": "stdout",
     "output_type": "stream",
     "text": [
      "[['X', '_', '_'], ['X', '_', '_'], ['X', '_', '_']]\n"
     ]
    }
   ],
   "source": [
    "row = ['_'] * 3\n",
    "board = []\n",
    "for i in range(3):\n",
    "    board.append(row) \n",
    "\n",
    "board[0][0] = 'X'\n",
    "print(board)"
   ]
  },
  {
   "cell_type": "code",
   "execution_count": 29,
   "metadata": {},
   "outputs": [
    {
     "name": "stdout",
     "output_type": "stream",
     "text": [
      "[['_', '_', '_'], ['_', '_', '_'], ['_', '_', '_']]\n",
      "[['_', '_', '_'], ['_', '_', '_'], ['X', '_', '_']]\n"
     ]
    }
   ],
   "source": [
    "board = []\n",
    ">>> for i in range(3):\n",
    "    row = ['_'] * 3 #\n",
    "    board.append(row)\n",
    "\n",
    "print(board)\n",
    "board[2][0] = 'X'\n",
    "print(board) \n"
   ]
  },
  {
   "cell_type": "markdown",
   "metadata": {},
   "source": [
    "## Комбинированное присваивание с последовательностями"
   ]
  },
  {
   "cell_type": "code",
   "execution_count": 31,
   "metadata": {},
   "outputs": [
    {
     "name": "stdout",
     "output_type": "stream",
     "text": [
      "140334126524488\n",
      "[1, 2, 3, 1, 2, 3]\n",
      "140334126524488\n",
      "140334127901360\n",
      "140334126652872\n"
     ]
    }
   ],
   "source": [
    "l = [1, 2, 3]\n",
    "print(id(l))\n",
    "l *= 2\n",
    "print(l)\n",
    "[1, 2, 3, 1, 2, 3]\n",
    "print(id(l))\n",
    "t = (1, 2, 3)\n",
    "print(id(t))\n",
    "t *= 2\n",
    "print(id(t))"
   ]
  },
  {
   "cell_type": "code",
   "execution_count": 7,
   "metadata": {},
   "outputs": [
    {
     "ename": "TypeError",
     "evalue": "'tuple' object does not support item assignment",
     "output_type": "error",
     "traceback": [
      "\u001b[0;31m---------------------------------------------------------------------------\u001b[0m",
      "\u001b[0;31mTypeError\u001b[0m                                 Traceback (most recent call last)",
      "\u001b[0;32m<ipython-input-7-0e9217592952>\u001b[0m in \u001b[0;36m<module>\u001b[0;34m\u001b[0m\n\u001b[1;32m      1\u001b[0m \u001b[0mt\u001b[0m \u001b[0;34m=\u001b[0m \u001b[0;34m(\u001b[0m\u001b[0;36m1\u001b[0m\u001b[0;34m,\u001b[0m \u001b[0;36m2\u001b[0m\u001b[0;34m,\u001b[0m \u001b[0;34m[\u001b[0m\u001b[0;36m30\u001b[0m\u001b[0;34m,\u001b[0m \u001b[0;36m40\u001b[0m\u001b[0;34m]\u001b[0m\u001b[0;34m)\u001b[0m\u001b[0;34m\u001b[0m\u001b[0m\n\u001b[0;32m----> 2\u001b[0;31m \u001b[0mt\u001b[0m\u001b[0;34m[\u001b[0m\u001b[0;36m2\u001b[0m\u001b[0;34m]\u001b[0m \u001b[0;34m+=\u001b[0m \u001b[0;34m[\u001b[0m\u001b[0;36m50\u001b[0m\u001b[0;34m,\u001b[0m \u001b[0;36m60\u001b[0m\u001b[0;34m]\u001b[0m\u001b[0;34m\u001b[0m\u001b[0m\n\u001b[0m",
      "\u001b[0;31mTypeError\u001b[0m: 'tuple' object does not support item assignment"
     ]
    }
   ],
   "source": [
    "t = (1, 2, [30, 40])\n",
    "t[2] += [50, 60]\n"
   ]
  },
  {
   "cell_type": "code",
   "execution_count": 8,
   "metadata": {},
   "outputs": [
    {
     "data": {
      "text/plain": [
       "(1, 2, [30, 40, 50, 60])"
      ]
     },
     "execution_count": 8,
     "metadata": {},
     "output_type": "execute_result"
    }
   ],
   "source": [
    "t"
   ]
  },
  {
   "cell_type": "code",
   "execution_count": 11,
   "metadata": {},
   "outputs": [
    {
     "data": {
      "text/plain": [
       "(1, 2, [])"
      ]
     },
     "execution_count": 11,
     "metadata": {},
     "output_type": "execute_result"
    }
   ],
   "source": [
    "l = list(t)\n",
    "l[2] = []\n",
    "t = tuple(l)\n",
    "t"
   ]
  },
  {
   "cell_type": "markdown",
   "metadata": {},
   "source": [
    "## Встроенная функция sorted и list.sort"
   ]
  },
  {
   "cell_type": "code",
   "execution_count": 34,
   "metadata": {},
   "outputs": [
    {
     "name": "stdout",
     "output_type": "stream",
     "text": [
      "['apple', 'banana', 'grape', 'raspberry']\n",
      "['grape', 'raspberry', 'apple', 'banana']\n",
      "['raspberry', 'grape', 'banana', 'apple']\n",
      "['grape', 'apple', 'banana', 'raspberry']\n",
      "['raspberry', 'banana', 'grape', 'apple']\n",
      "['grape', 'raspberry', 'apple', 'banana']\n",
      "['apple', 'banana', 'grape', 'raspberry']\n"
     ]
    }
   ],
   "source": [
    "fruits = ['grape', 'raspberry', 'apple', 'banana']\n",
    "print(sorted(fruits))\n",
    "print(fruits)\n",
    "print(sorted(fruits, reverse=True))\n",
    "print(sorted(fruits, key=len))\n",
    "print(sorted(fruits, key=len, reverse=True))\n",
    "print(fruits)\n",
    "fruits.sort()\n",
    "print(fruits)"
   ]
  },
  {
   "cell_type": "markdown",
   "metadata": {},
   "source": [
    "## Bisect"
   ]
  },
  {
   "cell_type": "code",
   "execution_count": 35,
   "metadata": {},
   "outputs": [
    {
     "name": "stdout",
     "output_type": "stream",
     "text": [
      "DEMO: bisect_left\n",
      "haystack ->  1  4  5  6  8 12 15 20 21 23 23 26 29 30\n",
      "31 @ 14  | | | | | | | | | | | | | |31\n",
      "30 @ 13  | | | | | | | | | | | | |30\n",
      "29 @ 12  | | | | | | | | | | | |29\n",
      "23 @  9  | | | | | | | | |23\n",
      "22 @  9  | | | | | | | | |22\n",
      "10 @  5  | | | | |10\n",
      " 8 @  4  | | | |8 \n",
      " 5 @  2  | |5 \n",
      " 2 @  1  |2 \n",
      " 1 @  0 1 \n",
      " 0 @  0 0 \n",
      "DEMO: bisect_right\n",
      "haystack ->  1  4  5  6  8 12 15 20 21 23 23 26 29 30\n",
      "31 @ 14  | | | | | | | | | | | | | |31\n",
      "30 @ 14  | | | | | | | | | | | | | |30\n",
      "29 @ 13  | | | | | | | | | | | | |29\n",
      "23 @ 11  | | | | | | | | | | |23\n",
      "22 @  9  | | | | | | | | |22\n",
      "10 @  5  | | | | |10\n",
      " 8 @  5  | | | | |8 \n",
      " 5 @  3  | | |5 \n",
      " 2 @  1  |2 \n",
      " 1 @  1  |1 \n",
      " 0 @  0 0 \n"
     ]
    }
   ],
   "source": [
    "import bisect\n",
    "import sys\n",
    "HAYSTACK = [1, 4, 5, 6, 8, 12, 15, 20, 21, 23, 23, 26, 29, 30]\n",
    "NEEDLES = [0, 1, 2, 5, 8, 10, 22, 23, 29, 30, 31]\n",
    "ROW_FMT = '{0:2d} @ {1:2d} {2}{0:<2d}'\n",
    "def demo(bisect_fn):\n",
    "    for needle in reversed(NEEDLES):\n",
    "        position = bisect_fn(HAYSTACK, needle)\n",
    "        offset = position * ' |'\n",
    "        print(ROW_FMT.format(needle, position, offset))\n",
    "\n",
    "bisect_fn = bisect.bisect_left\n",
    "\n",
    "print('DEMO:', bisect_fn.__name__)\n",
    "print('haystack ->', ' '.join('%2d' % n for n in HAYSTACK))\n",
    "demo(bisect_fn)\n",
    "\n",
    "bisect_fn = bisect.bisect\n",
    "\n",
    "print('DEMO:', bisect_fn.__name__)\n",
    "print('haystack ->', ' '.join('%2d' % n for n in HAYSTACK))\n",
    "demo(bisect_fn)\n"
   ]
  },
  {
   "cell_type": "code",
   "execution_count": 36,
   "metadata": {},
   "outputs": [
    {
     "name": "stdout",
     "output_type": "stream",
     "text": [
      "10 -> [10]\n",
      " 0 -> [0, 10]\n",
      " 6 -> [0, 6, 10]\n",
      " 8 -> [0, 6, 8, 10]\n",
      " 7 -> [0, 6, 7, 8, 10]\n",
      " 2 -> [0, 2, 6, 7, 8, 10]\n",
      "10 -> [0, 2, 6, 7, 8, 10, 10]\n"
     ]
    }
   ],
   "source": [
    "import bisect\n",
    "import random\n",
    "\n",
    "SIZE = 7\n",
    "\n",
    "random.seed(1729)\n",
    "my_list = []\n",
    "for i in range(SIZE):\n",
    "    new_item = random.randrange(SIZE*2)\n",
    "    bisect.insort(my_list, new_item)\n",
    "    print('%2d ->' % new_item, my_list)"
   ]
  },
  {
   "cell_type": "markdown",
   "metadata": {},
   "source": [
    "## Массивы"
   ]
  },
  {
   "cell_type": "code",
   "execution_count": 38,
   "metadata": {},
   "outputs": [
    {
     "name": "stdout",
     "output_type": "stream",
     "text": [
      "0.1288579230853678\n",
      "0.1288579230853678\n"
     ]
    },
    {
     "data": {
      "text/plain": [
       "True"
      ]
     },
     "execution_count": 38,
     "metadata": {},
     "output_type": "execute_result"
    }
   ],
   "source": [
    "from array import array\n",
    "from random import random\n",
    "\n",
    "floats = array('d', (random() for i in range(10**7)))\n",
    "print(floats[-1])\n",
    "\n",
    "fp = open('floats.bin', 'wb')\n",
    "floats.tofile(fp)\n",
    "fp.close()\n",
    "\n",
    "floats2 = array('d')\n",
    "fp = open('floats.bin', 'rb')\n",
    "floats2.fromfile(fp, 10**7)\n",
    "fp.close()\n",
    "print(floats2[-1])\n",
    "floats2 == floats"
   ]
  },
  {
   "cell_type": "code",
   "execution_count": 42,
   "metadata": {},
   "outputs": [
    {
     "name": "stdout",
     "output_type": "stream",
     "text": [
      "5\n",
      "-2\n",
      "[254, 255, 255, 255, 0, 0, 1, 0, 2, 0]\n",
      "array('h', [-2, -1, 1024, 1, 2])\n"
     ]
    }
   ],
   "source": [
    "numbers = array('h', [-2, -1, 0, 1, 2])\n",
    "memv = memoryview(numbers)\n",
    "print(len(memv))\n",
    "\n",
    "print(memv[0])\n",
    "memv_oct = memv.cast('B')\n",
    "print(memv_oct.tolist())\n",
    "memv_oct[5] = 4\n",
    "print(numbers)"
   ]
  },
  {
   "cell_type": "markdown",
   "metadata": {},
   "source": [
    "## NumPy и SciPy"
   ]
  },
  {
   "cell_type": "code",
   "execution_count": 45,
   "metadata": {},
   "outputs": [
    {
     "name": "stdout",
     "output_type": "stream",
     "text": [
      "[ 0  1  2  3  4  5  6  7  8  9 10 11]\n",
      "<class 'numpy.ndarray'>\n",
      "(12,)\n",
      "[[ 0  1  2  3]\n",
      " [ 4  5  6  7]\n",
      " [ 8  9 10 11]]\n",
      "[ 8  9 10 11]\n"
     ]
    }
   ],
   "source": [
    "import numpy\n",
    "a = numpy.arange(12)\n",
    "print(a)\n",
    "print(type(a))\n",
    "print(a.shape)\n",
    "(12,)\n",
    "a.shape = 3, 4\n",
    "print(a)\n",
    "print(a[2]) "
   ]
  },
  {
   "cell_type": "code",
   "execution_count": 46,
   "metadata": {},
   "outputs": [
    {
     "name": "stdout",
     "output_type": "stream",
     "text": [
      "9\n",
      "[1 5 9]\n",
      "[[ 0  4  8]\n",
      " [ 1  5  9]\n",
      " [ 2  6 10]\n",
      " [ 3  7 11]]\n"
     ]
    }
   ],
   "source": [
    "print(a[2, 1])\n",
    "print(a[:, 1])\n",
    "print(a.transpose()) "
   ]
  },
  {
   "cell_type": "markdown",
   "metadata": {},
   "source": [
    "## Очереди"
   ]
  },
  {
   "cell_type": "code",
   "execution_count": 47,
   "metadata": {},
   "outputs": [
    {
     "name": "stdout",
     "output_type": "stream",
     "text": [
      "deque([0, 1, 2, 3, 4, 5, 6, 7, 8, 9], maxlen=10)\n",
      "deque([7, 8, 9, 0, 1, 2, 3, 4, 5, 6], maxlen=10)\n",
      "deque([1, 2, 3, 4, 5, 6, 7, 8, 9, 0], maxlen=10)\n",
      "deque([-1, 1, 2, 3, 4, 5, 6, 7, 8, 9], maxlen=10)\n",
      "deque([3, 4, 5, 6, 7, 8, 9, 11, 22, 33], maxlen=10)\n",
      "deque([40, 30, 20, 10, 3, 4, 5, 6, 7, 8], maxlen=10)\n"
     ]
    }
   ],
   "source": [
    "from collections import deque\n",
    "\n",
    "dq = deque(range(10), maxlen=10)\n",
    "print(dq)\n",
    "dq.rotate(3)\n",
    "print(dq)\n",
    "dq.rotate(-4)\n",
    "print(dq)\n",
    "dq.appendleft(-1)\n",
    "print(dq)\n",
    "dq.extend([11, 22, 33])\n",
    "print(dq)\n",
    "dq.extendleft([10, 20, 30, 40]) \n",
    "print(dq)"
   ]
  },
  {
   "cell_type": "markdown",
   "metadata": {},
   "source": [
    "## Словари"
   ]
  },
  {
   "cell_type": "code",
   "execution_count": 4,
   "metadata": {},
   "outputs": [
    {
     "data": {
      "text/plain": [
       "True"
      ]
     },
     "execution_count": 4,
     "metadata": {},
     "output_type": "execute_result"
    }
   ],
   "source": [
    "from collections.abc import Mapping\n",
    "\n",
    "my_dict = {}\n",
    "isinstance(my_dict, Mapping)"
   ]
  },
  {
   "cell_type": "code",
   "execution_count": 5,
   "metadata": {},
   "outputs": [
    {
     "name": "stdout",
     "output_type": "stream",
     "text": [
      "8027212646858338501\n",
      "985328935373711578\n"
     ]
    },
    {
     "ename": "TypeError",
     "evalue": "unhashable type: 'list'",
     "output_type": "error",
     "traceback": [
      "\u001b[0;31m---------------------------------------------------------------------------\u001b[0m",
      "\u001b[0;31mTypeError\u001b[0m                                 Traceback (most recent call last)",
      "\u001b[0;32m<ipython-input-5-e47dd35a2874>\u001b[0m in \u001b[0;36m<module>\u001b[0;34m\u001b[0m\n\u001b[1;32m      6\u001b[0m \u001b[0;34m\u001b[0m\u001b[0m\n\u001b[1;32m      7\u001b[0m \u001b[0mtl\u001b[0m \u001b[0;34m=\u001b[0m \u001b[0;34m(\u001b[0m\u001b[0;36m1\u001b[0m\u001b[0;34m,\u001b[0m \u001b[0;36m2\u001b[0m\u001b[0;34m,\u001b[0m \u001b[0;34m[\u001b[0m\u001b[0;36m30\u001b[0m\u001b[0;34m,\u001b[0m \u001b[0;36m40\u001b[0m\u001b[0;34m]\u001b[0m\u001b[0;34m)\u001b[0m\u001b[0;34m\u001b[0m\u001b[0m\n\u001b[0;32m----> 8\u001b[0;31m \u001b[0mprint\u001b[0m\u001b[0;34m(\u001b[0m\u001b[0mhash\u001b[0m\u001b[0;34m(\u001b[0m\u001b[0mtl\u001b[0m\u001b[0;34m)\u001b[0m\u001b[0;34m)\u001b[0m\u001b[0;34m\u001b[0m\u001b[0m\n\u001b[0m",
      "\u001b[0;31mTypeError\u001b[0m: unhashable type: 'list'"
     ]
    }
   ],
   "source": [
    "tt = (1, 2, (30, 40))\n",
    "print(hash(tt))\n",
    "\n",
    "tf = (1, 2, frozenset([30, 40]))\n",
    "print(hash(tf))\n",
    "\n",
    "tl = (1, 2, [30, 40])\n",
    "print(hash(tl))"
   ]
  },
  {
   "cell_type": "code",
   "execution_count": 6,
   "metadata": {},
   "outputs": [
    {
     "data": {
      "text/plain": [
       "True"
      ]
     },
     "execution_count": 6,
     "metadata": {},
     "output_type": "execute_result"
    }
   ],
   "source": [
    "a = dict(one=1, two=2, three=3)\n",
    "b = {'one': 1, 'two': 2, 'three': 3}\n",
    "c = dict(zip(['one', 'two', 'three'], [1, 2, 3]))\n",
    "d = dict([('two', 2), ('one', 1), ('three', 3)])\n",
    "e = dict({'three': 3, 'one': 1, 'two': 2})\n",
    "a == b == c == d == e"
   ]
  },
  {
   "cell_type": "markdown",
   "metadata": {},
   "source": [
    "<img src=\"../img/dict_methods.png\">"
   ]
  },
  {
   "cell_type": "code",
   "execution_count": 13,
   "metadata": {},
   "outputs": [],
   "source": [
    "import this\n",
    "import codecs\n",
    "\n",
    "zen_of_python = codecs.encode(this.s, 'rot13').split('\\n')"
   ]
  },
  {
   "cell_type": "code",
   "execution_count": 14,
   "metadata": {},
   "outputs": [
    {
     "name": "stdout",
     "output_type": "stream",
     "text": [
      "a [(18, 48), (19, 53)]\n",
      "Although [(10, 1), (15, 1), (17, 1)]\n",
      "ambiguity [(13, 16)]\n",
      "and [(14, 23)]\n",
      "are [(20, 12)]\n",
      "aren [(9, 15)]\n",
      "at [(15, 38)]\n",
      "bad [(18, 50)]\n",
      "be [(14, 14), (15, 27), (19, 50)]\n",
      "beats [(10, 23)]\n",
      "Beautiful [(2, 1)]\n",
      "better [(2, 14), (3, 13), (4, 11), (5, 12), (6, 9), (7, 11), (16, 8), (17, 25)]\n",
      "break [(9, 40)]\n",
      "by [(0, 20)]\n",
      "cases [(9, 9)]\n",
      "complex [(4, 23)]\n",
      "Complex [(5, 1)]\n",
      "complicated [(5, 24)]\n",
      "counts [(8, 13)]\n",
      "dense [(7, 23)]\n",
      "do [(14, 64), (20, 48)]\n",
      "Dutch [(15, 61)]\n",
      "easy [(19, 26)]\n",
      "enough [(9, 30)]\n",
      "Errors [(11, 1)]\n",
      "explain [(18, 34), (19, 34)]\n",
      "Explicit [(3, 1)]\n",
      "explicitly [(12, 8)]\n",
      "face [(13, 8)]\n",
      "first [(15, 41)]\n",
      "Flat [(6, 1)]\n",
      "good [(19, 55)]\n",
      "great [(20, 28)]\n",
      "guess [(13, 52)]\n",
      "hard [(18, 26)]\n",
      "honking [(20, 20)]\n",
      "idea [(18, 54), (19, 60), (20, 34)]\n",
      "If [(18, 1), (19, 1)]\n",
      "implementation [(18, 8), (19, 8)]\n",
      "implicit [(3, 25)]\n",
      "In [(13, 1)]\n",
      "is [(2, 11), (3, 10), (4, 8), (5, 9), (6, 6), (7, 8), (16, 5), (17, 16), (18, 23), (19, 23)]\n",
      "it [(14, 67), (18, 43), (19, 43)]\n",
      "let [(20, 42)]\n",
      "may [(15, 19), (19, 46)]\n",
      "more [(20, 51)]\n",
      "Namespaces [(20, 1)]\n",
      "nested [(6, 21)]\n",
      "never [(11, 15), (16, 20), (17, 10)]\n",
      "not [(15, 23)]\n",
      "Now [(16, 1)]\n",
      "now [(17, 45)]\n",
      "obvious [(14, 49), (15, 30)]\n",
      "of [(0, 9), (13, 13), (20, 56)]\n",
      "often [(17, 19)]\n",
      "one [(14, 17), (14, 43), (20, 16)]\n",
      "only [(14, 38)]\n",
      "pass [(11, 21)]\n",
      "Peters [(0, 27)]\n",
      "practicality [(10, 10)]\n",
      "preferably [(14, 27)]\n",
      "purity [(10, 29)]\n",
      "Python [(0, 12)]\n",
      "re [(15, 58)]\n",
      "Readability [(8, 1)]\n",
      "refuse [(13, 27)]\n",
      "right [(17, 38)]\n",
      "rules [(9, 50)]\n",
      "s [(18, 46), (20, 46)]\n",
      "should [(11, 8), (14, 7)]\n",
      "silenced [(12, 19)]\n",
      "silently [(11, 26)]\n",
      "Simple [(4, 1)]\n",
      "Sparse [(7, 1)]\n",
      "Special [(9, 1)]\n",
      "special [(9, 22)]\n",
      "t [(9, 20)]\n",
      "temptation [(13, 38)]\n",
      "than [(2, 21), (3, 20), (4, 18), (5, 19), (6, 16), (7, 18), (16, 15), (17, 32)]\n",
      "that [(15, 10)]\n",
      "The [(0, 1)]\n",
      "the [(9, 46), (13, 4), (13, 34), (18, 4), (19, 4)]\n",
      "There [(14, 1)]\n",
      "those [(20, 59)]\n",
      "Tim [(0, 23)]\n",
      "to [(9, 37), (13, 49), (14, 61), (18, 31), (19, 31)]\n",
      "ugly [(2, 26)]\n",
      "Unless [(12, 1)]\n",
      "unless [(15, 47)]\n",
      "way [(14, 57), (15, 15)]\n",
      "you [(15, 54)]\n",
      "Zen [(0, 5)]\n"
     ]
    }
   ],
   "source": [
    "import sys\n",
    "import re\n",
    "\n",
    "WORD_RE = re.compile('\\w+')\n",
    "index = {}\n",
    "\n",
    "for line_no, line in enumerate(zen_of_python):\n",
    "     for match in WORD_RE.finditer(line):\n",
    "        word = match.group()\n",
    "        column_no = match.start()+1\n",
    "        location = (line_no, column_no)\n",
    "        # не очень красиво, поправим в следующем примере\n",
    "        occurrences = index.get(word, [])\n",
    "        occurrences.append(location)\n",
    "        index[word] = occurrences\n",
    "\n",
    "for word in sorted(index, key=str.upper):\n",
    "    print(word, index[word])"
   ]
  },
  {
   "cell_type": "code",
   "execution_count": 15,
   "metadata": {},
   "outputs": [
    {
     "name": "stdout",
     "output_type": "stream",
     "text": [
      "a [(18, 48), (19, 53)]\n",
      "Although [(10, 1), (15, 1), (17, 1)]\n",
      "ambiguity [(13, 16)]\n",
      "and [(14, 23)]\n",
      "are [(20, 12)]\n",
      "aren [(9, 15)]\n",
      "at [(15, 38)]\n",
      "bad [(18, 50)]\n",
      "be [(14, 14), (15, 27), (19, 50)]\n",
      "beats [(10, 23)]\n",
      "Beautiful [(2, 1)]\n",
      "better [(2, 14), (3, 13), (4, 11), (5, 12), (6, 9), (7, 11), (16, 8), (17, 25)]\n",
      "break [(9, 40)]\n",
      "by [(0, 20)]\n",
      "cases [(9, 9)]\n",
      "complex [(4, 23)]\n",
      "Complex [(5, 1)]\n",
      "complicated [(5, 24)]\n",
      "counts [(8, 13)]\n",
      "dense [(7, 23)]\n",
      "do [(14, 64), (20, 48)]\n",
      "Dutch [(15, 61)]\n",
      "easy [(19, 26)]\n",
      "enough [(9, 30)]\n",
      "Errors [(11, 1)]\n",
      "explain [(18, 34), (19, 34)]\n",
      "Explicit [(3, 1)]\n",
      "explicitly [(12, 8)]\n",
      "face [(13, 8)]\n",
      "first [(15, 41)]\n",
      "Flat [(6, 1)]\n",
      "good [(19, 55)]\n",
      "great [(20, 28)]\n",
      "guess [(13, 52)]\n",
      "hard [(18, 26)]\n",
      "honking [(20, 20)]\n",
      "idea [(18, 54), (19, 60), (20, 34)]\n",
      "If [(18, 1), (19, 1)]\n",
      "implementation [(18, 8), (19, 8)]\n",
      "implicit [(3, 25)]\n",
      "In [(13, 1)]\n",
      "is [(2, 11), (3, 10), (4, 8), (5, 9), (6, 6), (7, 8), (16, 5), (17, 16), (18, 23), (19, 23)]\n",
      "it [(14, 67), (18, 43), (19, 43)]\n",
      "let [(20, 42)]\n",
      "may [(15, 19), (19, 46)]\n",
      "more [(20, 51)]\n",
      "Namespaces [(20, 1)]\n",
      "nested [(6, 21)]\n",
      "never [(11, 15), (16, 20), (17, 10)]\n",
      "not [(15, 23)]\n",
      "Now [(16, 1)]\n",
      "now [(17, 45)]\n",
      "obvious [(14, 49), (15, 30)]\n",
      "of [(0, 9), (13, 13), (20, 56)]\n",
      "often [(17, 19)]\n",
      "one [(14, 17), (14, 43), (20, 16)]\n",
      "only [(14, 38)]\n",
      "pass [(11, 21)]\n",
      "Peters [(0, 27)]\n",
      "practicality [(10, 10)]\n",
      "preferably [(14, 27)]\n",
      "purity [(10, 29)]\n",
      "Python [(0, 12)]\n",
      "re [(15, 58)]\n",
      "Readability [(8, 1)]\n",
      "refuse [(13, 27)]\n",
      "right [(17, 38)]\n",
      "rules [(9, 50)]\n",
      "s [(18, 46), (20, 46)]\n",
      "should [(11, 8), (14, 7)]\n",
      "silenced [(12, 19)]\n",
      "silently [(11, 26)]\n",
      "Simple [(4, 1)]\n",
      "Sparse [(7, 1)]\n",
      "Special [(9, 1)]\n",
      "special [(9, 22)]\n",
      "t [(9, 20)]\n",
      "temptation [(13, 38)]\n",
      "than [(2, 21), (3, 20), (4, 18), (5, 19), (6, 16), (7, 18), (16, 15), (17, 32)]\n",
      "that [(15, 10)]\n",
      "The [(0, 1)]\n",
      "the [(9, 46), (13, 4), (13, 34), (18, 4), (19, 4)]\n",
      "There [(14, 1)]\n",
      "those [(20, 59)]\n",
      "Tim [(0, 23)]\n",
      "to [(9, 37), (13, 49), (14, 61), (18, 31), (19, 31)]\n",
      "ugly [(2, 26)]\n",
      "Unless [(12, 1)]\n",
      "unless [(15, 47)]\n",
      "way [(14, 57), (15, 15)]\n",
      "you [(15, 54)]\n",
      "Zen [(0, 5)]\n"
     ]
    }
   ],
   "source": [
    "import sys\n",
    "import re\n",
    "\n",
    "WORD_RE = re.compile('\\w+')\n",
    "\n",
    "index = {}\n",
    "for line_no, line in enumerate(zen_of_python):\n",
    "    for match in WORD_RE.finditer(line):\n",
    "        word = match.group()\n",
    "        column_no = match.start()+1\n",
    "        location = (line_no, column_no)\n",
    "        index.setdefault(word, []).append(location)\n",
    "            \n",
    "for word in sorted(index, key=str.upper):\n",
    "    print(word, index[word])"
   ]
  },
  {
   "cell_type": "code",
   "execution_count": 16,
   "metadata": {},
   "outputs": [
    {
     "name": "stdout",
     "output_type": "stream",
     "text": [
      "a [(18, 48), (19, 53)]\n",
      "Although [(10, 1), (15, 1), (17, 1)]\n",
      "ambiguity [(13, 16)]\n",
      "and [(14, 23)]\n",
      "are [(20, 12)]\n",
      "aren [(9, 15)]\n",
      "at [(15, 38)]\n",
      "bad [(18, 50)]\n",
      "be [(14, 14), (15, 27), (19, 50)]\n",
      "beats [(10, 23)]\n",
      "Beautiful [(2, 1)]\n",
      "better [(2, 14), (3, 13), (4, 11), (5, 12), (6, 9), (7, 11), (16, 8), (17, 25)]\n",
      "break [(9, 40)]\n",
      "by [(0, 20)]\n",
      "cases [(9, 9)]\n",
      "complex [(4, 23)]\n",
      "Complex [(5, 1)]\n",
      "complicated [(5, 24)]\n",
      "counts [(8, 13)]\n",
      "dense [(7, 23)]\n",
      "do [(14, 64), (20, 48)]\n",
      "Dutch [(15, 61)]\n",
      "easy [(19, 26)]\n",
      "enough [(9, 30)]\n",
      "Errors [(11, 1)]\n",
      "explain [(18, 34), (19, 34)]\n",
      "Explicit [(3, 1)]\n",
      "explicitly [(12, 8)]\n",
      "face [(13, 8)]\n",
      "first [(15, 41)]\n",
      "Flat [(6, 1)]\n",
      "good [(19, 55)]\n",
      "great [(20, 28)]\n",
      "guess [(13, 52)]\n",
      "hard [(18, 26)]\n",
      "honking [(20, 20)]\n",
      "idea [(18, 54), (19, 60), (20, 34)]\n",
      "If [(18, 1), (19, 1)]\n",
      "implementation [(18, 8), (19, 8)]\n",
      "implicit [(3, 25)]\n",
      "In [(13, 1)]\n",
      "is [(2, 11), (3, 10), (4, 8), (5, 9), (6, 6), (7, 8), (16, 5), (17, 16), (18, 23), (19, 23)]\n",
      "it [(14, 67), (18, 43), (19, 43)]\n",
      "let [(20, 42)]\n",
      "may [(15, 19), (19, 46)]\n",
      "more [(20, 51)]\n",
      "Namespaces [(20, 1)]\n",
      "nested [(6, 21)]\n",
      "never [(11, 15), (16, 20), (17, 10)]\n",
      "not [(15, 23)]\n",
      "Now [(16, 1)]\n",
      "now [(17, 45)]\n",
      "obvious [(14, 49), (15, 30)]\n",
      "of [(0, 9), (13, 13), (20, 56)]\n",
      "often [(17, 19)]\n",
      "one [(14, 17), (14, 43), (20, 16)]\n",
      "only [(14, 38)]\n",
      "pass [(11, 21)]\n",
      "Peters [(0, 27)]\n",
      "practicality [(10, 10)]\n",
      "preferably [(14, 27)]\n",
      "purity [(10, 29)]\n",
      "Python [(0, 12)]\n",
      "re [(15, 58)]\n",
      "Readability [(8, 1)]\n",
      "refuse [(13, 27)]\n",
      "right [(17, 38)]\n",
      "rules [(9, 50)]\n",
      "s [(18, 46), (20, 46)]\n",
      "should [(11, 8), (14, 7)]\n",
      "silenced [(12, 19)]\n",
      "silently [(11, 26)]\n",
      "Simple [(4, 1)]\n",
      "Sparse [(7, 1)]\n",
      "Special [(9, 1)]\n",
      "special [(9, 22)]\n",
      "t [(9, 20)]\n",
      "temptation [(13, 38)]\n",
      "than [(2, 21), (3, 20), (4, 18), (5, 19), (6, 16), (7, 18), (16, 15), (17, 32)]\n",
      "that [(15, 10)]\n",
      "The [(0, 1)]\n",
      "the [(9, 46), (13, 4), (13, 34), (18, 4), (19, 4)]\n",
      "There [(14, 1)]\n",
      "those [(20, 59)]\n",
      "Tim [(0, 23)]\n",
      "to [(9, 37), (13, 49), (14, 61), (18, 31), (19, 31)]\n",
      "ugly [(2, 26)]\n",
      "Unless [(12, 1)]\n",
      "unless [(15, 47)]\n",
      "way [(14, 57), (15, 15)]\n",
      "you [(15, 54)]\n",
      "Zen [(0, 5)]\n"
     ]
    }
   ],
   "source": [
    "import sys\n",
    "import re\n",
    "import collections\n",
    "\n",
    "WORD_RE = re.compile('\\w+')\n",
    "\n",
    "index = collections.defaultdict(list)\n",
    "for line_no, line in enumerate(zen_of_python):\n",
    "    for match in WORD_RE.finditer(line):\n",
    "        word = match.group()\n",
    "        column_no = match.start()+1\n",
    "        location = (line_no, column_no)\n",
    "        index[word].append(location)\n",
    "\n",
    "for word in sorted(index, key=str.upper):\n",
    "    print(word, index[word])"
   ]
  },
  {
   "cell_type": "code",
   "execution_count": 18,
   "metadata": {},
   "outputs": [
    {
     "name": "stdout",
     "output_type": "stream",
     "text": [
      "two\n",
      "four\n",
      "N/A\n",
      "True\n",
      "False\n",
      "two\n",
      "four\n"
     ]
    },
    {
     "ename": "KeyError",
     "evalue": "'1'",
     "output_type": "error",
     "traceback": [
      "\u001b[0;31m---------------------------------------------------------------------------\u001b[0m",
      "\u001b[0;31mKeyError\u001b[0m                                  Traceback (most recent call last)",
      "\u001b[0;32m<ipython-input-18-0009a5f7df6e>\u001b[0m in \u001b[0;36m<module>\u001b[0;34m\u001b[0m\n\u001b[1;32m     29\u001b[0m \u001b[0mprint\u001b[0m\u001b[0;34m(\u001b[0m\u001b[0md\u001b[0m\u001b[0;34m[\u001b[0m\u001b[0;34m'2'\u001b[0m\u001b[0;34m]\u001b[0m\u001b[0;34m)\u001b[0m\u001b[0;34m\u001b[0m\u001b[0m\n\u001b[1;32m     30\u001b[0m \u001b[0mprint\u001b[0m\u001b[0;34m(\u001b[0m\u001b[0md\u001b[0m\u001b[0;34m[\u001b[0m\u001b[0;36m4\u001b[0m\u001b[0;34m]\u001b[0m\u001b[0;34m)\u001b[0m\u001b[0;34m\u001b[0m\u001b[0m\n\u001b[0;32m---> 31\u001b[0;31m \u001b[0mprint\u001b[0m\u001b[0;34m(\u001b[0m\u001b[0md\u001b[0m\u001b[0;34m[\u001b[0m\u001b[0;36m1\u001b[0m\u001b[0;34m]\u001b[0m\u001b[0;34m)\u001b[0m\u001b[0;34m\u001b[0m\u001b[0m\n\u001b[0m",
      "\u001b[0;32m<ipython-input-18-0009a5f7df6e>\u001b[0m in \u001b[0;36m__missing__\u001b[0;34m(self, key)\u001b[0m\n\u001b[1;32m      4\u001b[0m        \u001b[0;32mif\u001b[0m \u001b[0misinstance\u001b[0m\u001b[0;34m(\u001b[0m\u001b[0mkey\u001b[0m\u001b[0;34m,\u001b[0m \u001b[0mstr\u001b[0m\u001b[0;34m)\u001b[0m\u001b[0;34m:\u001b[0m\u001b[0;34m\u001b[0m\u001b[0m\n\u001b[1;32m      5\u001b[0m            \u001b[0;32mraise\u001b[0m \u001b[0mKeyError\u001b[0m\u001b[0;34m(\u001b[0m\u001b[0mkey\u001b[0m\u001b[0;34m)\u001b[0m\u001b[0;34m\u001b[0m\u001b[0m\n\u001b[0;32m----> 6\u001b[0;31m        \u001b[0;32mreturn\u001b[0m \u001b[0mself\u001b[0m\u001b[0;34m[\u001b[0m\u001b[0mstr\u001b[0m\u001b[0;34m(\u001b[0m\u001b[0mkey\u001b[0m\u001b[0;34m)\u001b[0m\u001b[0;34m]\u001b[0m\u001b[0;34m\u001b[0m\u001b[0m\n\u001b[0m\u001b[1;32m      7\u001b[0m \u001b[0;34m\u001b[0m\u001b[0m\n\u001b[1;32m      8\u001b[0m    \u001b[0;32mdef\u001b[0m \u001b[0mget\u001b[0m\u001b[0;34m(\u001b[0m\u001b[0mself\u001b[0m\u001b[0;34m,\u001b[0m \u001b[0mkey\u001b[0m\u001b[0;34m,\u001b[0m \u001b[0mdefault\u001b[0m\u001b[0;34m=\u001b[0m\u001b[0;32mNone\u001b[0m\u001b[0;34m)\u001b[0m\u001b[0;34m:\u001b[0m\u001b[0;34m\u001b[0m\u001b[0m\n",
      "\u001b[0;32m<ipython-input-18-0009a5f7df6e>\u001b[0m in \u001b[0;36m__missing__\u001b[0;34m(self, key)\u001b[0m\n\u001b[1;32m      3\u001b[0m    \u001b[0;32mdef\u001b[0m \u001b[0m__missing__\u001b[0m\u001b[0;34m(\u001b[0m\u001b[0mself\u001b[0m\u001b[0;34m,\u001b[0m \u001b[0mkey\u001b[0m\u001b[0;34m)\u001b[0m\u001b[0;34m:\u001b[0m\u001b[0;34m\u001b[0m\u001b[0m\n\u001b[1;32m      4\u001b[0m        \u001b[0;32mif\u001b[0m \u001b[0misinstance\u001b[0m\u001b[0;34m(\u001b[0m\u001b[0mkey\u001b[0m\u001b[0;34m,\u001b[0m \u001b[0mstr\u001b[0m\u001b[0;34m)\u001b[0m\u001b[0;34m:\u001b[0m\u001b[0;34m\u001b[0m\u001b[0m\n\u001b[0;32m----> 5\u001b[0;31m            \u001b[0;32mraise\u001b[0m \u001b[0mKeyError\u001b[0m\u001b[0;34m(\u001b[0m\u001b[0mkey\u001b[0m\u001b[0;34m)\u001b[0m\u001b[0;34m\u001b[0m\u001b[0m\n\u001b[0m\u001b[1;32m      6\u001b[0m        \u001b[0;32mreturn\u001b[0m \u001b[0mself\u001b[0m\u001b[0;34m[\u001b[0m\u001b[0mstr\u001b[0m\u001b[0;34m(\u001b[0m\u001b[0mkey\u001b[0m\u001b[0;34m)\u001b[0m\u001b[0;34m]\u001b[0m\u001b[0;34m\u001b[0m\u001b[0m\n\u001b[1;32m      7\u001b[0m \u001b[0;34m\u001b[0m\u001b[0m\n",
      "\u001b[0;31mKeyError\u001b[0m: '1'"
     ]
    }
   ],
   "source": [
    " \n",
    "class StrKeyDict0(dict):\n",
    "    def __missing__(self, key):\n",
    "        if isinstance(key, str):\n",
    "            raise KeyError(key)\n",
    "        return self[str(key)]\n",
    "\n",
    "    def get(self, key, default=None):\n",
    "        try:\n",
    "            return self[key]\n",
    "        except KeyError:\n",
    "            return default\n",
    "\n",
    "    def __contains__(self, key):\n",
    "        return key in self.keys() or str(key) in self.keys()     \n",
    "    \n",
    "d = StrKeyDict0([('2', 'two'), ('4', 'four')])\n",
    " \n",
    "# d.get(key)\n",
    "print(d.get('2'))\n",
    "print(d.get(4))\n",
    "print(d.get(1, 'N/A'))\n",
    "\n",
    "# key in d\n",
    "print(2 in d)\n",
    "print(1 in d)\n",
    "\n",
    "# d['key']\n",
    "print(d['2'])\n",
    "print(d[4])\n",
    "print(d[1])"
   ]
  },
  {
   "cell_type": "markdown",
   "metadata": {},
   "source": [
    "## Множества"
   ]
  },
  {
   "cell_type": "code",
   "execution_count": 19,
   "metadata": {},
   "outputs": [
    {
     "name": "stdout",
     "output_type": "stream",
     "text": [
      "{'eggs', 'spam'}\n",
      "['eggs', 'spam']\n"
     ]
    }
   ],
   "source": [
    "l = ['spam', 'spam', 'eggs', 'spam']\n",
    "print(set(l))\n",
    "print(list(set(l)))"
   ]
  },
  {
   "cell_type": "markdown",
   "metadata": {},
   "source": [
    "<img src=\"../img/set_methods.png\">"
   ]
  }
 ],
 "metadata": {
  "kernelspec": {
   "display_name": "Python 3",
   "language": "python",
   "name": "python3"
  },
  "language_info": {
   "codemirror_mode": {
    "name": "ipython",
    "version": 3
   },
   "file_extension": ".py",
   "mimetype": "text/x-python",
   "name": "python",
   "nbconvert_exporter": "python",
   "pygments_lexer": "ipython3",
   "version": "3.7.0"
  }
 },
 "nbformat": 4,
 "nbformat_minor": 2
}
