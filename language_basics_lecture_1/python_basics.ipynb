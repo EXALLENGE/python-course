{
 "cells": [
  {
   "cell_type": "markdown",
   "metadata": {},
   "source": [
    "# Основы языка python"
   ]
  },
  {
   "cell_type": "markdown",
   "metadata": {},
   "source": [
    "## 1. Комментарии"
   ]
  },
  {
   "cell_type": "code",
   "execution_count": 1,
   "metadata": {},
   "outputs": [
    {
     "data": {
      "text/plain": [
       "' Многострочный текст может быть \\n    записан, используя 3 знака \" и обычно используется\\n    в качестве встроенной документации\\n'"
      ]
     },
     "execution_count": 1,
     "metadata": {},
     "output_type": "execute_result"
    }
   ],
   "source": [
    "# Однострочные комментарии начинаются с символа решётки.\n",
    "\"\"\" Многострочный текст может быть \n",
    "    записан, используя 3 знака \" и обычно используется\n",
    "    в качестве встроенной документации\n",
    "\"\"\""
   ]
  },
  {
   "cell_type": "markdown",
   "metadata": {},
   "source": [
    "## 2. Примитивные типы данных и операторы"
   ]
  },
  {
   "cell_type": "markdown",
   "metadata": {},
   "source": [
    "### 2.1 Числа"
   ]
  },
  {
   "cell_type": "markdown",
   "metadata": {},
   "source": [
    "Числа в Python бывают разные:\n",
    "\n",
    "* Целые числа (int): 122, -4, 99999999999, 0o177, 0x9ff, 0b101010\n",
    "* Вещественные числа (float): 1.0, 3.14, .5, 4E21, 4.0e21\n",
    "* Комплексные числа (complex): 3 + 4j, 3.0 + 4.0j,\n",
    "* Числа фиксированной точности% decimal.Decimal('0.1')\n",
    "* Рациональные числа: fractions.Fraction(3, 4)"
   ]
  },
  {
   "cell_type": "markdown",
   "metadata": {},
   "source": [
    "#### Операции с целыми и вещественными числами"
   ]
  },
  {
   "cell_type": "markdown",
   "metadata": {},
   "source": [
    "<img src=\"../img/operations.png\" height=\"1201\" width=\"681\">"
   ]
  },
  {
   "cell_type": "markdown",
   "metadata": {},
   "source": [
    "#### Целые числа"
   ]
  },
  {
   "cell_type": "code",
   "execution_count": null,
   "metadata": {
    "collapsed": true
   },
   "outputs": [],
   "source": [
    "# Операции сложения, вычитания, умножение возвращают целые числа\n",
    "1 + 1 #=> 2\n",
    "8 - 1 #=> 7\n",
    "10 * 2 #=> 20\n",
    "\n",
    "# Кроме деления, которое по умолчанию возвращает число с плавающей запятой\n",
    "35 / 5  # => 7.0\n",
    "\n",
    "# Результат целочисленного деления округляется в меньшую сторону\n",
    "# как для положительных, так и для отрицательных чисел.\n",
    "5 // 3     # => 1\n",
    "5.0 // 3.0 # => 1.0 # работает и для чисел с плавающей запятой\n",
    "-5 // 3  # => -2\n",
    "-5.0 // 3.0 # => -2.0\n",
    "\n",
    "# Когда вы используете числа с плавающей запятой, \n",
    "# результатом будет также число с плавающей запятой\n",
    "3 * 2.0 # => 6.0\n",
    "\n",
    "# Остаток от деления\n",
    "7 % 3 # => 1\n",
    "\n",
    "# Возведение в степень\n",
    "2**4 # => 16\n",
    "\n",
    "# Приоритет операций указывается скобками\n",
    "(1 + 3) * 2 #=> 8"
   ]
  },
  {
   "cell_type": "markdown",
   "metadata": {},
   "source": [
    "#### Вещественные числа"
   ]
  },
  {
   "cell_type": "code",
   "execution_count": null,
   "metadata": {
    "collapsed": true
   },
   "outputs": [],
   "source": [
    "print(.1 + .1)"
   ]
  },
  {
   "cell_type": "markdown",
   "metadata": {},
   "source": [
    "#### Комплексные числа"
   ]
  },
  {
   "cell_type": "code",
   "execution_count": null,
   "metadata": {
    "collapsed": true
   },
   "outputs": [],
   "source": [
    "print(\"|{0}| = {1}\".format(complex(2, 3), abs(complex(2, 3))))\n",
    "print(\"{0} * {1} = {2}\".format(complex(1, 1), complex(2, 3), complex(1, 1) * complex(2, 3)))"
   ]
  },
  {
   "cell_type": "code",
   "execution_count": null,
   "metadata": {
    "collapsed": true
   },
   "outputs": [],
   "source": [
    "(1 + 2j) * (3+4j)"
   ]
  },
  {
   "cell_type": "markdown",
   "metadata": {},
   "source": [
    "#### Числа фиксированной точности и рациональные числа"
   ]
  },
  {
   "cell_type": "markdown",
   "metadata": {},
   "source": [
    "Для решения проблем, связанных с точностью представления простых вещественных чисел введены вещественные числа с фиксированной точностью и рациональные числа (числа, представленные дробью, то есть парой целых чисел – числителем и знаменателем).\n"
   ]
  },
  {
   "cell_type": "code",
   "execution_count": 1,
   "metadata": {},
   "outputs": [
    {
     "name": "stdout",
     "output_type": "stream",
     "text": [
      "0.3666666666666667\n"
     ]
    },
    {
     "data": {
      "text/plain": [
       "True"
      ]
     },
     "execution_count": 1,
     "metadata": {},
     "output_type": "execute_result"
    }
   ],
   "source": [
    "print(1.1/3)\n",
    "from decimal import Decimal\n",
    "from decimal import getcontext\n",
    "getcontext().prec = 3\n",
    "Decimal('4') / 3 == Decimal('1.33')"
   ]
  },
  {
   "cell_type": "code",
   "execution_count": 2,
   "metadata": {},
   "outputs": [
    {
     "name": "stdout",
     "output_type": "stream",
     "text": [
      "True\n"
     ]
    }
   ],
   "source": [
    "from fractions import Fraction\n",
    "print(Fraction(7, 71) * 71 == 7)"
   ]
  },
  {
   "cell_type": "markdown",
   "metadata": {},
   "source": [
    "#### Приоритет арифметических операций в Python"
   ]
  },
  {
   "cell_type": "markdown",
   "metadata": {},
   "source": [
    "<img src=\"../img/operations_priority.png\" height=\"1217\" width=\"532\">"
   ]
  },
  {
   "cell_type": "markdown",
   "metadata": {},
   "source": [
    "### 2.2 Строки"
   ]
  },
  {
   "cell_type": "code",
   "execution_count": 3,
   "metadata": {},
   "outputs": [
    {
     "data": {
      "text/plain": [
       "'Это тоже строка.'"
      ]
     },
     "execution_count": 3,
     "metadata": {},
     "output_type": "execute_result"
    }
   ],
   "source": [
    "# Строки определяются символом \" или '\n",
    "\"Это строка.\"\n",
    "'Это тоже строка.'"
   ]
  },
  {
   "cell_type": "code",
   "execution_count": null,
   "metadata": {
    "collapsed": true
   },
   "outputs": [],
   "source": [
    "# И строки тоже могут складываться! Хотя лучше не злоупотребляйте этим.\n",
    "\"Привет \" + \"мир!\" #=> \"Привет мир!\""
   ]
  },
  {
   "cell_type": "code",
   "execution_count": null,
   "metadata": {
    "collapsed": true
   },
   "outputs": [],
   "source": [
    "# Строки можно умножать.\n",
    "\"aa\" * 4 #=> \"aaaaaaaa\""
   ]
  },
  {
   "cell_type": "code",
   "execution_count": null,
   "metadata": {
    "collapsed": true
   },
   "outputs": [],
   "source": [
    "# Со строкой можно работать, как со списком символов\n",
    "\"Это строка\"[0] #=> 'Э'"
   ]
  },
  {
   "cell_type": "code",
   "execution_count": null,
   "metadata": {
    "collapsed": true
   },
   "outputs": [],
   "source": [
    "# Метод format используется для форматирования строк:\n",
    "\"{0} могут быть {1}\".format(\"строки\", \"форматированы\")"
   ]
  },
  {
   "cell_type": "code",
   "execution_count": null,
   "metadata": {
    "collapsed": true
   },
   "outputs": [],
   "source": [
    "# Вы можете повторять аргументы форматирования, чтобы меньше печатать.\n",
    "\"Ехал {0} через реку, видит {0} - в реке {1}! Сунул {0} руку в реку, {1} за руку греку цап!\".format(\"грека\", \"рак\")\n",
    "#=> \"Ехал грека через реку, видит грека - в реке рак! Сунул грека руку в реку, рак за руку греку цап!\"\n",
    "# Если вы не хотите считать, можете использовать ключевые слова.\n",
    "\"{name} хочет есть {food}\".format(name=\"Боб\", food=\"лазанью\")"
   ]
  },
  {
   "cell_type": "code",
   "execution_count": null,
   "metadata": {
    "collapsed": true
   },
   "outputs": [],
   "source": [
    "# Если ваш код на Python 3 нужно запускать также и под Python 2.5 и ниже,\n",
    "# вы также можете использовать старый способ форматирования:\n",
    "\"%s можно %s %s способом\" % (\"строки\", \"интерполировать\", \"старым\")"
   ]
  },
  {
   "cell_type": "markdown",
   "metadata": {},
   "source": [
    "### 2.3 Логические переменные"
   ]
  },
  {
   "cell_type": "markdown",
   "metadata": {},
   "source": [
    "Для управления логикой программы нужен еще один тип переменной - bool. Переменная типа bool имеет всего два значения - True и False."
   ]
  },
  {
   "cell_type": "code",
   "execution_count": null,
   "metadata": {
    "collapsed": true
   },
   "outputs": [],
   "source": [
    "is_connected = True\n",
    "print(type(is_connected))\n",
    "\n",
    "a, b = 5, 6\n",
    "a_greater_b = a > b\n",
    "print(a_greater_b)\n",
    "print(type(a_greater_b))\n",
    "\n",
    "c = bool(1)\n",
    "print(c)\n",
    "print(type(c))"
   ]
  },
  {
   "cell_type": "markdown",
   "metadata": {},
   "source": [
    "## 3. Условный оператор"
   ]
  },
  {
   "cell_type": "markdown",
   "metadata": {},
   "source": [
    "В простейшем виде условная инструкция в Питоне имеет следующий синтаксис:\n",
    "\n",
    "if Условие:\n",
    "\n",
    "    Блок инструкций 1\n",
    "\n",
    "else:\n",
    "\n",
    "    Блок инструкций 2\n"
   ]
  },
  {
   "cell_type": "markdown",
   "metadata": {},
   "source": [
    "Пример.<br> \n",
    "Если число делится на 8, напечатать это число и строку \"YES\", в противном случае - \"NO\""
   ]
  },
  {
   "cell_type": "code",
   "execution_count": null,
   "metadata": {
    "collapsed": true
   },
   "outputs": [],
   "source": [
    "a = int(input(\"Insert a number: \"))\n",
    "if a % 7 == 0:\n",
    "    print(a)\n",
    "    print(\"YES\")\n",
    "else:\n",
    "    print(\"NO\")"
   ]
  },
  {
   "cell_type": "markdown",
   "metadata": {},
   "source": [
    "Если в каждом блоке всего по одной инструкции, можно использовать сокращенный синтаксис:<br>\n",
    "Инструкция 1 if Условие else Инструкция 2"
   ]
  },
  {
   "cell_type": "code",
   "execution_count": null,
   "metadata": {
    "collapsed": true
   },
   "outputs": [],
   "source": [
    "has_debts = True\n",
    "comission = 0.07 if has_debts else 0.05\n",
    "print(comission)"
   ]
  },
  {
   "cell_type": "markdown",
   "metadata": {},
   "source": [
    "Пример<br>\n",
    "Написать, что число четное или нечетное"
   ]
  },
  {
   "cell_type": "code",
   "execution_count": null,
   "metadata": {
    "collapsed": true
   },
   "outputs": [],
   "source": [
    "a = int(input(\"Insert a number: \"))\n",
    "print(str(a) + \" is \" + (\"even\" if a % 2 == 0 else \"odd\"))"
   ]
  },
  {
   "cell_type": "markdown",
   "metadata": {},
   "source": [
    "Условные конструкции могут быть вложенными.\n",
    "\n",
    "if Условие1:\n",
    "\n",
    "    if Условие2:\n",
    "\n",
    "        Блок инструкций 1\n",
    "\n",
    "        ...\n",
    "\n",
    "    else:\n",
    "\n",
    "        Блок инструкций 2\n",
    "\n",
    "else:\n",
    "\n",
    "    Блок инструкций 3\n"
   ]
  },
  {
   "cell_type": "markdown",
   "metadata": {},
   "source": [
    "Пример<br>\n",
    "Определить, в какой четверти находится точка, по ее координатам (x, y)"
   ]
  },
  {
   "cell_type": "code",
   "execution_count": null,
   "metadata": {
    "collapsed": true
   },
   "outputs": [],
   "source": [
    "x = int(input(\"Введите x: \"))\n",
    "y = int(input(\"Введите y: \"))\n",
    "if x > 0:\n",
    "    if y > 0:               # x>0, y>0\n",
    "        print(\"Первая четверть\")\n",
    "    else:                   # x>0, y<0\n",
    "        print(\"Четвертая четверть\")\n",
    "else:\n",
    "    if y > 0:               # x<0, y>0\n",
    "        print(\"Вторая четверть\")\n",
    "    else:                   # x<0, y<0\n",
    "        print(\"Третья четверть\")"
   ]
  },
  {
   "cell_type": "markdown",
   "metadata": {},
   "source": [
    "Блок if-elif-else (каскадная конструкция)\n",
    "\n",
    "if Условие 1:\n",
    "\n",
    "    Блок инструкций 1\n",
    "\n",
    "elif Условие 2:\n",
    "\n",
    "    Блок инструкций 2\n",
    "\n",
    "    ...\n",
    "\n",
    "elif Условие n:\n",
    "\n",
    "    Блок инструкций n\n",
    "\n",
    "else:\n",
    "\n",
    "    Блок инструкций n+1\n"
   ]
  },
  {
   "cell_type": "code",
   "execution_count": null,
   "metadata": {
    "collapsed": true
   },
   "outputs": [],
   "source": [
    "x = input(\"Введите x: \")\n",
    "y = input(\"Введите y: \")\n",
    "if x > 0 and y > 0:\n",
    "    print(\"Первая четверть\")\n",
    "elif x > 0 and y < 0:\n",
    "    print(\"Четвертая четверть\")\n",
    "elif y > 0:\n",
    "    print(\"Вторая четверть\")\n",
    "else:\n",
    "    print(\"Третья четверть\")"
   ]
  },
  {
   "cell_type": "markdown",
   "metadata": {},
   "source": [
    "## 4. Циклы"
   ]
  },
  {
   "cell_type": "markdown",
   "metadata": {},
   "source": [
    "### 4.1 Цикл for"
   ]
  },
  {
   "cell_type": "markdown",
   "metadata": {},
   "source": [
    "Цикл for в языке Python начинается со строки заголовка, где указывается переменная для присваивания (цель), а также объект, обход которого будет выполнен. Вслед за заголовком следует блок инструкций, которые требуется выполнить."
   ]
  },
  {
   "cell_type": "markdown",
   "metadata": {},
   "source": [
    "Когда интерпретатор выполняет цикл for, он поочередно, один за другим, присваивает элементы объекта последовательности переменной цикла и выполняет тело цикла для каждого из них. Для обращения к текущему элементу последовательности в теле цикла обычно используется переменная цикла, как если бы это был курсор, шагающий от элемента к элементу. "
   ]
  },
  {
   "cell_type": "code",
   "execution_count": null,
   "metadata": {
    "collapsed": true
   },
   "outputs": [],
   "source": [
    "for x in ['spam', 'eggs', 'ham']:\n",
    "    print(type(x))"
   ]
  },
  {
   "cell_type": "markdown",
   "metadata": {},
   "source": [
    "### 4.2 Цикл while"
   ]
  },
  {
   "cell_type": "markdown",
   "metadata": {},
   "source": [
    "Цикл While очень удобен, потому что он позволяет Вашей программе работать, пока Вы не решите её остановить. Эта конструкция позволяет организовать бесконечный цикл, который ждет действий пользователя. "
   ]
  },
  {
   "cell_type": "markdown",
   "metadata": {},
   "source": [
    "Цикл while проверяет начальные условия. Если условие выполняется, цикл начинает работать. Каждый раз когда проходит одна итерация, условие проверяется снова. До тех пор, пока условие выполняется, цикл продолжает работать. Как только условие перестает выполняться, цикл заканчивает свою работу."
   ]
  },
  {
   "cell_type": "code",
   "execution_count": null,
   "metadata": {
    "collapsed": true
   },
   "outputs": [],
   "source": [
    "# Некоторое начальное условие\n",
    "game_active = True\n",
    "\n",
    "lives = 3\n",
    "# Сам цикл while \n",
    "while game_active:\n",
    "    # Запускаем игру.\n",
    "    # В какой-то момент времени необходимо изменить значение game_active на False.\n",
    "    # Когда это случится, цикл закончит свою работу\n",
    "    if lives == 0:\n",
    "        print(\"Game Over!\")\n",
    "        break\n",
    "    \n",
    "# Действия по окончанию цикла"
   ]
  },
  {
   "cell_type": "markdown",
   "metadata": {},
   "source": [
    "* Каждый цикл должен иметь начальное условие которое выполнятеся\n",
    "* Ключевое слово while включает в себя проверяемое условие\n",
    "* Код внутри цикла выполняется до тех пор, пока верно начальное условие\n",
    "* Как только что-то меняется и начальное условие не выполняется, цикл перестает выполняться\n",
    "* По окончании цикла выполняется код, написанный далее"
   ]
  },
  {
   "cell_type": "code",
   "execution_count": null,
   "metadata": {
    "collapsed": true
   },
   "outputs": [],
   "source": [
    "# Установим силы игрока - 5.\n",
    "power = 5\n",
    "\n",
    "# Играть можно пока сил не станет - 0.\n",
    "while power > 0:\n",
    "    print(\"You are still playing because your power is %d.\" % power)\n",
    "    # игра начинается тут: \n",
    "    #   возможная потеря сил\n",
    "    # Допустим, с каждым разом сила у Люка уменьшается на 1\n",
    "    power = power - 1\n",
    "else:    \n",
    "    print(\"\\nOh no, your power dropped to 0! Game Over.\")"
   ]
  },
  {
   "cell_type": "markdown",
   "metadata": {},
   "source": [
    "### 4.3 Инструкции для работы с циклами"
   ]
  },
  {
   "cell_type": "markdown",
   "metadata": {},
   "source": [
    "* break - Производит переход за пределы цикла\n",
    "* continue - Производит переход в начало цикла\n",
    "* pass - Ничего не делает, используется как заполнитель\n",
    "\n",
    "Блок else - выполняется, если цикл завершился необычным образом (break не в счет)\n",
    "\n",
    "Как это выглядит:\n",
    "\n",
    "while :\n",
    "\n",
    "    <statements1>\n",
    "\n",
    "    if <test2>: break # Выйти из цикла, пропустив часть else\n",
    "\n",
    "    if <test3>: continue # Перейти в начало цикла, к выражению test1\n",
    "\n",
    "else:\n",
    "\n",
    "    <statements2> # Выполняется, если не была использована инструкция ‘break’\n",
    "\n",
    "Инструкции break и continue могут появляться в любом месте внутри тела цикла while (или for), но, как правило, они используются в условных инструкциях if, чтобы выполнить необходимое действие в ответ на некоторое условие."
   ]
  },
  {
   "cell_type": "markdown",
   "metadata": {},
   "source": [
    "#### 4.3.1 Использование Continue"
   ]
  },
  {
   "cell_type": "code",
   "execution_count": null,
   "metadata": {
    "collapsed": true
   },
   "outputs": [],
   "source": [
    "x = 10\n",
    "while x:\n",
    "    x = x - 1 # Или, x -= 1\n",
    "    if x % 2 != 0: continue # Нечетное? – пропустить вывод\n",
    "    print(x)"
   ]
  },
  {
   "cell_type": "markdown",
   "metadata": {},
   "source": [
    "#### 4.3.2 Использование Continue"
   ]
  },
  {
   "cell_type": "code",
   "execution_count": null,
   "metadata": {
    "collapsed": true
   },
   "outputs": [],
   "source": [
    "while 1:\n",
    "    name = input('Enter name:')\n",
    "    if name == 'stop': break\n",
    "    age = input('Enter age: ')\n",
    "    print('Hello', name, '=>', int(age) ** 2)"
   ]
  },
  {
   "cell_type": "markdown",
   "metadata": {},
   "source": [
    "#### 4.3.3 Использование Else"
   ]
  },
  {
   "cell_type": "code",
   "execution_count": null,
   "metadata": {
    "collapsed": true
   },
   "outputs": [],
   "source": [
    "# Пример на проверку, простое ли число y\n",
    "\n",
    "x, y = 4, 23\n",
    "x = y // 2 # Для значений y > 1\n",
    "while x > 1:\n",
    "    if y % x == 0: # y делится на x\n",
    "        print(y, 'has factor', x)\n",
    "        break # Перешагнуть блок else\n",
    "    else: # y не делится на x\n",
    "        x -= 1\n",
    "else: # Нормальное завершение цикла\n",
    "    print(y, 'is prime')"
   ]
  }
 ],
 "metadata": {
  "kernelspec": {
   "display_name": "Python 3",
   "language": "python",
   "name": "python3"
  },
  "language_info": {
   "codemirror_mode": {
    "name": "ipython",
    "version": 3
   },
   "file_extension": ".py",
   "mimetype": "text/x-python",
   "name": "python",
   "nbconvert_exporter": "python",
   "pygments_lexer": "ipython3",
   "version": "3.7.0"
  }
 },
 "nbformat": 4,
 "nbformat_minor": 2
}
